{
 "metadata": {
  "name": ""
 },
 "nbformat": 3,
 "nbformat_minor": 0,
 "worksheets": [
  {
   "cells": [
    {
     "cell_type": "markdown",
     "metadata": {},
     "source": [
      "# Tutorial: Interacting with Yoshi Pipeline Data in iPython Notebook\n",
      "\n",
      "Yoshi is great for creating repeatable data processing workflows, but invariably you will need to roll up your sleeves and do some ad-hoc analysis to figure out what's going on.  Blah blah blah, explain what's going to happen."
     ]
    },
    {
     "cell_type": "code",
     "collapsed": false,
     "input": [
      "import yoshi\n",
      "from yoshi.streaming.avrotargets import AvroHdfsTarget\n",
      "from yoshi.config import config\n",
      "\n",
      "%pylab inline\n",
      "import matplotlib.pyplot as plt\n",
      "import pandas as pd"
     ],
     "language": "python",
     "metadata": {},
     "outputs": [
      {
       "output_type": "stream",
       "stream": "stdout",
       "text": [
        "Populating the interactive namespace from numpy and matplotlib\n"
       ]
      }
     ],
     "prompt_number": 3
    },
    {
     "cell_type": "markdown",
     "metadata": {},
     "source": [
      "After imports, no data assets are registered."
     ]
    },
    {
     "cell_type": "code",
     "collapsed": false,
     "input": [
      "config.DATA_ASSETS"
     ],
     "language": "python",
     "metadata": {},
     "outputs": [
      {
       "metadata": {},
       "output_type": "pyout",
       "prompt_number": 4,
       "text": [
        "{}"
       ]
      }
     ],
     "prompt_number": 4
    },
    {
     "cell_type": "markdown",
     "metadata": {},
     "source": [
      "Import the python module containing your configuration settings to load the data registry information for your project.  In this case, it is just the baby_names.py module."
     ]
    },
    {
     "cell_type": "code",
     "collapsed": false,
     "input": [
      "import baby_names"
     ],
     "language": "python",
     "metadata": {},
     "outputs": [],
     "prompt_number": 5
    },
    {
     "cell_type": "markdown",
     "metadata": {},
     "source": [
      "Now, your data assets should all be registered."
     ]
    },
    {
     "cell_type": "code",
     "collapsed": false,
     "input": [
      "config.DATA_ASSETS"
     ],
     "language": "python",
     "metadata": {},
     "outputs": [
      {
       "metadata": {},
       "output_type": "pyout",
       "prompt_number": 6,
       "text": [
        "{'baby_names': {'name': 'baby_names',\n",
        "  'path': '/user/RQA267/prod/pipeline_runs/2014-04-07/baby_names',\n",
        "  'persistent': False,\n",
        "  'schema_name': 'baby_names'},\n",
        " 'baby_names_text': {'name': 'baby_names_text',\n",
        "  'path': '/user/RQA267/prod/pipeline_runs/2014-04-07/baby_names_text',\n",
        "  'persistent': False,\n",
        "  'schema_name': None},\n",
        " 'most_popular': {'name': 'most_popular',\n",
        "  'path': '/user/RQA267/prod/pipeline_runs/2014-04-07/most_popular',\n",
        "  'persistent': False,\n",
        "  'schema_name': 'most_popular'},\n",
        " 'most_popular2': {'name': 'most_popular2',\n",
        "  'path': '/user/RQA267/prod/pipeline_runs/2014-04-07/most_popular2',\n",
        "  'persistent': False,\n",
        "  'schema_name': 'most_popular2'}}"
       ]
      }
     ],
     "prompt_number": 6
    },
    {
     "cell_type": "markdown",
     "metadata": {},
     "source": [
      "Note that the data paths are being produced using the default run_tag, which is today's date.  (Currently \"2014-03-29\").  You may need to reset the configuration arguments for run_tag, user, and/or run environment to correspond to the particular run whose data you want to investigate.  In this case, I want to look at a run from \"2014-03-26\" where I used the date as the run_tag"
     ]
    },
    {
     "cell_type": "code",
     "collapsed": false,
     "input": [
      "config.set_config_args(run_tag=\"test1\")"
     ],
     "language": "python",
     "metadata": {},
     "outputs": [],
     "prompt_number": 7
    },
    {
     "cell_type": "markdown",
     "metadata": {},
     "source": [
      "Now we're ready to get started.  You can use the AvroHdfsTarget.for_asset class method to get an AvroHdfsTarget object for one of your registered data sets.  Let's look at the \"most_popular\" data set, which is the result of a query to extract the most popular male and female name for each birth year in the dataset.  "
     ]
    },
    {
     "cell_type": "code",
     "collapsed": false,
     "input": [
      "mp = AvroHdfsTarget.for_asset(\"most_popular2\")"
     ],
     "language": "python",
     "metadata": {},
     "outputs": [],
     "prompt_number": 9
    },
    {
     "cell_type": "code",
     "collapsed": false,
     "input": [
      "print mp.get_schema_string()"
     ],
     "language": "python",
     "metadata": {},
     "outputs": [
      {
       "output_type": "stream",
       "stream": "stdout",
       "text": [
        "\n",
        "{\n",
        "    \"namespace\": \"babynames\",\n",
        "    \"type\": \"record\",\n",
        "    \"name\": \"most_popular\",\n",
        "    \"fields\": [\n",
        "        { \"name\": \"gender\", \"type\": \"string\", \"doc\": \"char(1)\"},\n",
        "        { \"name\": \"birth_year\", \"type\": \"int\", \"doc\": \"1910-20xx\"},\n",
        "        { \"name\": \"name\", \"type\": \"string\", \"doc\": \"first name\"},\n",
        "        { \"name\": \"frequency\", \"type\": \"int\", \"doc\": \"number of births.  Suppressed for <5\"},\n",
        "        { \"name\": \"percentage\", \"type\": \"float\", \"doc\": \"percentage of total births receiving this name for gender and year\"}\n",
        "   ]\n",
        "}\n",
        "\n"
       ]
      }
     ],
     "prompt_number": 10
    },
    {
     "cell_type": "code",
     "collapsed": false,
     "input": [
      "mp = pd.DataFrame([r for r in mp.open()])"
     ],
     "language": "python",
     "metadata": {},
     "outputs": [],
     "prompt_number": 11
    },
    {
     "cell_type": "code",
     "collapsed": false,
     "input": [
      "mp.head()"
     ],
     "language": "python",
     "metadata": {},
     "outputs": [
      {
       "html": [
        "<div style=\"max-height:1000px;max-width:1500px;overflow:auto;\">\n",
        "<table border=\"1\" class=\"dataframe\">\n",
        "  <thead>\n",
        "    <tr style=\"text-align: right;\">\n",
        "      <th></th>\n",
        "      <th>birth_year</th>\n",
        "      <th>frequency</th>\n",
        "      <th>gender</th>\n",
        "      <th>name</th>\n",
        "      <th>percentage</th>\n",
        "    </tr>\n",
        "  </thead>\n",
        "  <tbody>\n",
        "    <tr>\n",
        "      <th>0</th>\n",
        "      <td> 1925</td>\n",
        "      <td> 6567</td>\n",
        "      <td> F</td>\n",
        "      <td>    Mary</td>\n",
        "      <td> 0.005810</td>\n",
        "    </tr>\n",
        "    <tr>\n",
        "      <th>1</th>\n",
        "      <td> 1935</td>\n",
        "      <td> 5763</td>\n",
        "      <td> M</td>\n",
        "      <td>  Robert</td>\n",
        "      <td> 0.005910</td>\n",
        "    </tr>\n",
        "    <tr>\n",
        "      <th>2</th>\n",
        "      <td> 1958</td>\n",
        "      <td> 5013</td>\n",
        "      <td> F</td>\n",
        "      <td>   Susan</td>\n",
        "      <td> 0.002653</td>\n",
        "    </tr>\n",
        "    <tr>\n",
        "      <th>3</th>\n",
        "      <td> 1968</td>\n",
        "      <td> 8077</td>\n",
        "      <td> M</td>\n",
        "      <td> Michael</td>\n",
        "      <td> 0.004870</td>\n",
        "    </tr>\n",
        "    <tr>\n",
        "      <th>4</th>\n",
        "      <td> 1982</td>\n",
        "      <td> 7160</td>\n",
        "      <td> M</td>\n",
        "      <td> Michael</td>\n",
        "      <td> 0.004217</td>\n",
        "    </tr>\n",
        "  </tbody>\n",
        "</table>\n",
        "<p>5 rows \u00d7 5 columns</p>\n",
        "</div>"
       ],
       "metadata": {},
       "output_type": "pyout",
       "prompt_number": 12,
       "text": [
        "   birth_year  frequency gender     name  percentage\n",
        "0        1925       6567      F     Mary    0.005810\n",
        "1        1935       5763      M   Robert    0.005910\n",
        "2        1958       5013      F    Susan    0.002653\n",
        "3        1968       8077      M  Michael    0.004870\n",
        "4        1982       7160      M  Michael    0.004217\n",
        "\n",
        "[5 rows x 5 columns]"
       ]
      }
     ],
     "prompt_number": 12
    },
    {
     "cell_type": "code",
     "collapsed": false,
     "input": [
      "females = mp[mp['gender']==\"F\"].sort(columns=\"birth_year\")\n",
      "males   = mp[mp['gender']==\"M\"].sort(columns=\"birth_year\")"
     ],
     "language": "python",
     "metadata": {},
     "outputs": [],
     "prompt_number": 15
    },
    {
     "cell_type": "code",
     "collapsed": false,
     "input": [
      "fig = plt.figure()\n",
      "plt.plot(females['birth_year'], females['percentage'], 'k--')\n",
      "plt.plot(males['birth_year'], males['percentage'], 'r')"
     ],
     "language": "python",
     "metadata": {},
     "outputs": [
      {
       "metadata": {},
       "output_type": "pyout",
       "prompt_number": 17,
       "text": [
        "[<matplotlib.lines.Line2D at 0x2c7de10>]"
       ]
      },
      {
       "metadata": {},
       "output_type": "display_data",
       "png": "[encoded data removed]",
       "text": [
        "<matplotlib.figure.Figure at 0x2dc1750>"
       ]
      }
     ],
     "prompt_number": 17
    },
    {
     "cell_type": "code",
     "collapsed": false,
     "input": [],
     "language": "python",
     "metadata": {},
     "outputs": []
    }
   ],
   "metadata": {}
  }
 ]
}
