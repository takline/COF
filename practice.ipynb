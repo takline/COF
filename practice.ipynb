{
 "metadata": {
  "name": "",
  "signature": "sha256:1c08d3d94ca49262be09a36f3e50406b3ee1caebf16f6000a998c264361ce7ab"
 },
 "nbformat": 3,
 "nbformat_minor": 0,
 "worksheets": [
  {
   "cells": [
    {
     "cell_type": "heading",
     "level": 1,
     "metadata": {},
     "source": [
      "Summary:"
     ]
    },
    {
     "cell_type": "markdown",
     "metadata": {},
     "source": [
      "In general, it looks like this dataset contains a significant outlier (the Fourth of July) in terms of user activity. I found a roughly 24 hour period where the # of users and sessions spiked, which caused averages to rise dramatically. However, the # of sessions per user stayed pretty consistent throughout this peak timeframe."
     ]
    },
    {
     "cell_type": "markdown",
     "metadata": {},
     "source": [
      "I was able to estimate what the 3 metrics would fall under, but had a bunch of questions left unanswered. It would be pretty interesting to dig into a larger dataset and find:"
     ]
    },
    {
     "cell_type": "markdown",
     "metadata": {},
     "source": [
      "A.) How does user-activity look on a weekday-basis? In other words, does Friday typically have a significant increase in activity? If so, by how much?"
     ]
    },
    {
     "cell_type": "markdown",
     "metadata": {},
     "source": [
      "B.) Which Holidays have the largest increase in activity? Are we able to predict how much a holiday increases activity?"
     ]
    },
    {
     "cell_type": "markdown",
     "metadata": {},
     "source": [
      "C.) Which posts are garnering the most attention/activity? Do specific posts cause increases, or is it Tumblr as a whole?"
     ]
    },
    {
     "cell_type": "heading",
     "level": 1,
     "metadata": {},
     "source": [
      "Now, onto the code:"
     ]
    },
    {
     "cell_type": "code",
     "collapsed": false,
     "input": [
      "import pandas as pd\n",
      "import math\n",
      "from csv import reader\n",
      "import datetime\n",
      "import numpy as np\n",
      "import matplotlib\n",
      "import pylab as pl\n",
      "import matplotlib.ticker as mticker\n",
      "%matplotlib inline\n",
      "import matplotlib.mlab as mlab"
     ],
     "language": "python",
     "metadata": {},
     "outputs": [],
     "prompt_number": 1
    },
    {
     "cell_type": "code",
     "collapsed": false,
     "input": [
      "df=pd.read_csv('/home/xgl470/session_data.txt', header=None)"
     ],
     "language": "python",
     "metadata": {},
     "outputs": [],
     "prompt_number": 2
    },
    {
     "cell_type": "code",
     "collapsed": false,
     "input": [
      "df.columns=['time_stamp','user_id']"
     ],
     "language": "python",
     "metadata": {},
     "outputs": [],
     "prompt_number": 3
    },
    {
     "cell_type": "code",
     "collapsed": false,
     "input": [
      "df['time_stamp'] = pd.to_datetime(df['time_stamp'],unit='s')"
     ],
     "language": "python",
     "metadata": {},
     "outputs": [],
     "prompt_number": 4
    },
    {
     "cell_type": "heading",
     "level": 4,
     "metadata": {},
     "source": [
      "de-dupe dataset"
     ]
    },
    {
     "cell_type": "code",
     "collapsed": false,
     "input": [
      "df=df.drop_duplicates(['user_id','time_stamp'])"
     ],
     "language": "python",
     "metadata": {},
     "outputs": [],
     "prompt_number": 5
    },
    {
     "cell_type": "code",
     "collapsed": false,
     "input": [
      "df=df.sort(['user_id', 'time_stamp'], ascending=[False,False])"
     ],
     "language": "python",
     "metadata": {},
     "outputs": [],
     "prompt_number": 6
    },
    {
     "cell_type": "code",
     "collapsed": false,
     "input": [
      "df = df.reset_index(drop=True)"
     ],
     "language": "python",
     "metadata": {},
     "outputs": [],
     "prompt_number": 7
    },
    {
     "cell_type": "code",
     "collapsed": false,
     "input": [
      "df['column_id'] = df.index"
     ],
     "language": "python",
     "metadata": {},
     "outputs": [],
     "prompt_number": 8
    },
    {
     "cell_type": "heading",
     "level": 4,
     "metadata": {},
     "source": [
      "Calculating the seconds until next login"
     ]
    },
    {
     "cell_type": "code",
     "collapsed": false,
     "input": [
      "next_signon=pd.DataFrame(np.array([[None, 'dummy']]), columns=['time_stamp', 'user_id']).append(df, ignore_index=True)"
     ],
     "language": "python",
     "metadata": {},
     "outputs": [],
     "prompt_number": 9
    },
    {
     "cell_type": "code",
     "collapsed": false,
     "input": [
      "next_signon['column_id'] = next_signon.index"
     ],
     "language": "python",
     "metadata": {},
     "outputs": [],
     "prompt_number": 10
    },
    {
     "cell_type": "code",
     "collapsed": false,
     "input": [
      "next_signon.columns=['column_id','next_view','user_id']"
     ],
     "language": "python",
     "metadata": {},
     "outputs": [],
     "prompt_number": 11
    },
    {
     "cell_type": "code",
     "collapsed": false,
     "input": [
      "df=pd.merge(df, next_signon, on=['column_id','user_id'], how='left')"
     ],
     "language": "python",
     "metadata": {},
     "outputs": [],
     "prompt_number": 12
    },
    {
     "cell_type": "code",
     "collapsed": false,
     "input": [
      "df['next_view_seconds'] = (df.next_view-df.time_stamp).astype('timedelta64[s]')"
     ],
     "language": "python",
     "metadata": {},
     "outputs": [],
     "prompt_number": 13
    },
    {
     "cell_type": "code",
     "collapsed": false,
     "input": [
      "df= df.drop('column_id', 1)"
     ],
     "language": "python",
     "metadata": {},
     "outputs": [],
     "prompt_number": 14
    },
    {
     "cell_type": "heading",
     "level": 4,
     "metadata": {},
     "source": [
      "Now finding the number of unique visitors"
     ]
    },
    {
     "cell_type": "code",
     "collapsed": false,
     "input": [
      "df['date']=df['time_stamp'].apply(lambda x: x.strftime('%m-%d-%Y'))"
     ],
     "language": "python",
     "metadata": {},
     "outputs": [],
     "prompt_number": 15
    },
    {
     "cell_type": "markdown",
     "metadata": {},
     "source": [
      "changing to date format"
     ]
    },
    {
     "cell_type": "code",
     "collapsed": false,
     "input": [
      "df['date']=df['date'].apply(lambda x: (datetime.datetime.strptime(x, \"%m-%d-%Y\").date()))"
     ],
     "language": "python",
     "metadata": {},
     "outputs": [],
     "prompt_number": 16
    },
    {
     "cell_type": "code",
     "collapsed": false,
     "input": [
      "df['weekday']=df['time_stamp'].apply(lambda x: x.strftime('%m-%d-%Y- %A'))"
     ],
     "language": "python",
     "metadata": {},
     "outputs": [],
     "prompt_number": 17
    },
    {
     "cell_type": "markdown",
     "metadata": {},
     "source": [
      "creating a column for hourly uniques"
     ]
    },
    {
     "cell_type": "code",
     "collapsed": false,
     "input": [
      "df['hour']=df['time_stamp'].apply(lambda x: x.strftime('%m-%d : %H'))"
     ],
     "language": "python",
     "metadata": {},
     "outputs": [],
     "prompt_number": 18
    },
    {
     "cell_type": "code",
     "collapsed": false,
     "input": [
      "hourly=df.groupby(\"hour\").agg({\"user_id\": pd.Series.nunique}).reset_index()"
     ],
     "language": "python",
     "metadata": {},
     "outputs": [],
     "prompt_number": 19
    },
    {
     "cell_type": "markdown",
     "metadata": {},
     "source": [
      "daily total uniques"
     ]
    },
    {
     "cell_type": "code",
     "collapsed": false,
     "input": [
      "daily=df.groupby(\"weekday\").agg({\"user_id\": pd.Series.nunique}).reset_index()"
     ],
     "language": "python",
     "metadata": {},
     "outputs": [],
     "prompt_number": 20
    },
    {
     "cell_type": "code",
     "collapsed": false,
     "input": [
      "values=daily['user_id']\n",
      "dates=daily['weekday']"
     ],
     "language": "python",
     "metadata": {},
     "outputs": [],
     "prompt_number": 100
    },
    {
     "cell_type": "heading",
     "level": 1,
     "metadata": {},
     "source": [
      "It looks like there was a significant spike in activity on the Fourth of July"
     ]
    },
    {
     "cell_type": "code",
     "collapsed": false,
     "input": [
      "matplotlib.rcParams.update({'font.size': 5})\n",
      "fig = pl.figure(num=None, figsize=(15, 6), dpi=50)\n",
      "ax = pl.subplot(111)\n",
      "width=.8\n",
      "ax.bar(range(len(dates)), values, width=width)\n",
      "ax.set_xticks(np.arange(len(dates)) + width/2)\n",
      "ax.set_xticklabels(dates, rotation=0)\n",
      "ax.axhline(values.mean(), color='red', linewidth=2)\n",
      "ax.annotate('Mean:%s'%(values.mean()), xy=(1, 200), xytext=(1,200),size=10,color='red',)\n",
      "pl.show()"
     ],
     "language": "python",
     "metadata": {},
     "outputs": [
      {
       "metadata": {},
       "output_type": "display_data",
       "png": "[encoded data removed]",
       "text": [
        "<matplotlib.figure.Figure at 0x7fc0c7cad910>"
       ]
      }
     ],
     "prompt_number": 101
    },
    {
     "cell_type": "heading",
     "level": 1,
     "metadata": {},
     "source": [
      "How does activity look per hour? (aka how many users logged activity in a given hour)"
     ]
    },
    {
     "cell_type": "code",
     "collapsed": false,
     "input": [
      "outliers=df.groupby(\"hour\").agg({\"user_id\": pd.Series.nunique}).reset_index()"
     ],
     "language": "python",
     "metadata": {},
     "outputs": [],
     "prompt_number": 23
    },
    {
     "cell_type": "code",
     "collapsed": false,
     "input": [
      "values=outliers['user_id']\n",
      "dates=outliers['hour']"
     ],
     "language": "python",
     "metadata": {},
     "outputs": [],
     "prompt_number": 77
    },
    {
     "cell_type": "code",
     "collapsed": false,
     "input": [
      "fig = pl.figure(num=None, figsize=(10, 4), dpi=50)\n",
      "ax = pl.subplot(111)\n",
      "width=.7\n",
      "ax.bar(range(len(dates)), values, width=width)\n",
      "ax.set_xticks(np.arange(len(dates)) + width/2)\n",
      "ax.set_xticklabels(dates, rotation=90)\n",
      "myLocator = mticker.MultipleLocator(4)\n",
      "ax.axvspan(18, 42, color='yellow', alpha=0.25)\n",
      "ax.axes.get_xaxis().set_visible(False)"
     ],
     "language": "python",
     "metadata": {},
     "outputs": [
      {
       "metadata": {},
       "output_type": "display_data",
       "png": "[encoded data removed]",
       "text": [
        "<matplotlib.figure.Figure at 0x7fc0c7e0b0d0>"
       ]
      }
     ],
     "prompt_number": 85
    },
    {
     "cell_type": "heading",
     "level": 1,
     "metadata": {},
     "source": [
      "If we drill down a little further, the outlier activity was from 4AM 7/4 to 3AM 7/5"
     ]
    },
    {
     "cell_type": "code",
     "collapsed": false,
     "input": [
      "outliers=df[(df[\"time_stamp\"]>=datetime.datetime(2014, 7, 3, 10, 0)) & (df[\"time_stamp\"]<datetime.datetime(2014, 7, 6, 10, 0))]"
     ],
     "language": "python",
     "metadata": {},
     "outputs": [],
     "prompt_number": 26
    },
    {
     "cell_type": "code",
     "collapsed": false,
     "input": [
      "outliers=outliers.groupby(\"hour\").agg({\"user_id\": pd.Series.nunique}).reset_index()"
     ],
     "language": "python",
     "metadata": {},
     "outputs": [],
     "prompt_number": 27
    },
    {
     "cell_type": "code",
     "collapsed": false,
     "input": [
      "values=outliers['user_id']\n",
      "dates=outliers['hour']"
     ],
     "language": "python",
     "metadata": {},
     "outputs": [],
     "prompt_number": 86
    },
    {
     "cell_type": "code",
     "collapsed": false,
     "input": [
      "fig = pl.figure(num=None, figsize=(10, 4), dpi=50)\n",
      "ax = pl.subplot(111)\n",
      "width=.8\n",
      "ax.bar(range(len(dates)), values, width=width)\n",
      "ax.set_xticks(np.arange(len(dates)) + width/2)\n",
      "ax.set_xticklabels(dates, rotation=90)\n",
      "myLocator = mticker.MultipleLocator(4)\n",
      "ax.axvspan(18, 42, color='yellow', alpha=0.25)\n",
      "#ax.xaxis.set_major_locator(myLocator)\n",
      "#fig.autofmt_xdate()"
     ],
     "language": "python",
     "metadata": {},
     "outputs": [
      {
       "metadata": {},
       "output_type": "pyout",
       "prompt_number": 88,
       "text": [
        "<matplotlib.patches.Polygon at 0x7fc0c7bde3d0>"
       ]
      },
      {
       "metadata": {},
       "output_type": "display_data",
       "png": "[encoded data removed]",
       "text": [
        "<matplotlib.figure.Figure at 0x7fc0c5d7d490>"
       ]
      }
     ],
     "prompt_number": 88
    },
    {
     "cell_type": "heading",
     "level": 1,
     "metadata": {},
     "source": [
      "For simplicity, lets see how the mean moves when we eliminate these outlier days:"
     ]
    },
    {
     "cell_type": "code",
     "collapsed": false,
     "input": [
      "no_fourth=df[(df[\"time_stamp\"] <datetime.datetime(2014, 7, 4, 0, 0)) | (df[\"time_stamp\"]>=datetime.datetime(2014, 7, 5, 0, 0)) ]"
     ],
     "language": "python",
     "metadata": {},
     "outputs": [],
     "prompt_number": 30
    },
    {
     "cell_type": "code",
     "collapsed": false,
     "input": [
      "no_fourth_fifth=df[(df[\"time_stamp\"] <datetime.datetime(2014, 7, 4, 0, 0)) | (df[\"time_stamp\"]>=datetime.datetime(2014, 7, 6, 0, 0)) ]"
     ],
     "language": "python",
     "metadata": {},
     "outputs": [],
     "prompt_number": 31
    },
    {
     "cell_type": "code",
     "collapsed": false,
     "input": [
      "no_fourth=no_fourth.groupby(\"weekday\").agg({\"user_id\": pd.Series.nunique}).reset_index()"
     ],
     "language": "python",
     "metadata": {},
     "outputs": [],
     "prompt_number": 32
    },
    {
     "cell_type": "code",
     "collapsed": false,
     "input": [
      "no_fourth_fifth=no_fourth_fifth.groupby(\"weekday\").agg({\"user_id\": pd.Series.nunique}).reset_index()"
     ],
     "language": "python",
     "metadata": {},
     "outputs": [],
     "prompt_number": 33
    },
    {
     "cell_type": "code",
     "collapsed": false,
     "input": [
      "values=daily['user_id']\n",
      "dates=daily['weekday']\n",
      "values2=no_fourth['user_id']\n",
      "values3=no_fourth_fifth['user_id']"
     ],
     "language": "python",
     "metadata": {},
     "outputs": [],
     "prompt_number": 89
    },
    {
     "cell_type": "markdown",
     "metadata": {},
     "source": [
      "When we eliminate 7/4, the mean drops by almost 20 users per day. But since 7/5 also contained some outlier hours (and probably wasn't a fair representation of normal Saturday activity), let's eliminate that as well. As you can see, the mean drops even further to 52 users per day. "
     ]
    },
    {
     "cell_type": "markdown",
     "metadata": {},
     "source": [
      "I'm hesitant to say any of these are the true averages for the following reasons: 1.) Red contains 1-2 outlier days  2.) Green contains some outlier activity as well (maybe not a full day, but still some) 3.) Green and Yellow are missing 1/2 weekdays from their sample size. If Friday/Saturday consistently has different activity levels, it's hard for me to measure this on a Holiday weekend. In reality, the true average probably falls somewhere between 52 and 80"
     ]
    },
    {
     "cell_type": "markdown",
     "metadata": {},
     "source": [
      "Some next steps: 1.) measure historical activity by weekday. Do we normally see a spike in activity on weekends? If so, how much is 7/4 an outlier?  2.) track specific post ID's. Was there a small group of posts that caused a spike in activity?  3.) Measure hourly activity on a broader scale (how abnormal was 7/4 hourly?). \n",
      "    "
     ]
    },
    {
     "cell_type": "code",
     "collapsed": false,
     "input": [
      "matplotlib.rcParams.update({'font.size': 5})\n",
      "fig = pl.figure(num=None, figsize=(10, 4), dpi=50)\n",
      "ax = pl.subplot(111)\n",
      "width=.8\n",
      "ax.bar(range(len(dates)), values, width=width)\n",
      "ax.set_xticks(np.arange(len(dates)) + width/2)\n",
      "ax.set_xticklabels(dates, rotation=0)\n",
      "ax.axhline(values.mean(), color='red', linewidth=2)\n",
      "ax.annotate('Mean :%.2f'%(values.mean()), xy=(1, 83), xytext=(1,83),size=7,color='red',)\n",
      "ax.annotate('Exclude 7/4: %.2f'%(values2.mean()), xy=(7, 63), xytext=(7,63),size=7,color='green',)\n",
      "ax.axhline(values2.mean(), color='green', linewidth=2)\n",
      "ax.annotate('Exclude 7/4 & \\n 7/5: %.2f'%(values3.mean()), xy=(4.05, 30), xytext=(4.05,30),size=7,color='gold',)\n",
      "ax.axhline(values3.mean(), color='gold', linewidth=2)\n",
      "pl.show()"
     ],
     "language": "python",
     "metadata": {},
     "outputs": [
      {
       "metadata": {},
       "output_type": "display_data",
       "png": "[encoded data removed]",
       "text": [
        "<matplotlib.figure.Figure at 0x7fc0c5b34250>"
       ]
      }
     ],
     "prompt_number": 94
    },
    {
     "cell_type": "heading",
     "level": 1,
     "metadata": {},
     "source": [
      "Lets create a view that shows how many sessions each user had"
     ]
    },
    {
     "cell_type": "markdown",
     "metadata": {},
     "source": [
      "Sort the dataframe by view date. Then compress the data into a dictionary, while preserving all timestamps"
     ]
    },
    {
     "cell_type": "code",
     "collapsed": false,
     "input": [
      "sessions=df[['time_stamp','user_id','next_view','next_view_seconds']].sort(['user_id', 'time_stamp'], ascending=[False,True])"
     ],
     "language": "python",
     "metadata": {},
     "outputs": [],
     "prompt_number": 36
    },
    {
     "cell_type": "code",
     "collapsed": false,
     "input": [
      "user_dict={k: g[\"time_stamp\"].tolist() for k,g in sessions.groupby(\"user_id\")}"
     ],
     "language": "python",
     "metadata": {},
     "outputs": [],
     "prompt_number": 37
    },
    {
     "cell_type": "markdown",
     "metadata": {},
     "source": [
      "iterate through the huge dictionary and create a new \"uber-dicionary\" at the user-level"
     ]
    },
    {
     "cell_type": "heading",
     "level": 4,
     "metadata": {},
     "source": [
      "Important assumption: A new session begins when a user has at least 600 seconds in between two page views. For example, let's assume I view a page at 7:00AM. I then view another page at 7:05AM. I then view another page at 7:10AM. These three page views are considered the same session. Now let's say my next pageview is at 7:30AM. This pageview is considered a new session (4 total pageviews, 2 total sessions). "
     ]
    },
    {
     "cell_type": "markdown",
     "metadata": {},
     "source": [
      "Let's make a dictionary that contains a key for each user, with values referring to each session they conducted in this dataset. In addition, these sessions will have values referring to 1.) session length (in seconds) 2.) # of pages viewed in that session. Session length is 0 when there was only one pageview in a session (no way to measure how long it was viewed). "
     ]
    },
    {
     "cell_type": "code",
     "collapsed": false,
     "input": [
      "final_user_dict={}\n",
      "for x in user_dict:\n",
      "    example=user_dict[x]\n",
      "    login=example[0]\n",
      "    dd={'begin_time':login,'views':1,'seconds_combined':0}  #Create an empty dictionary for the first page view\n",
      "    final_user_dict[x]=[dd]  #create the uber dictionary for the user\n",
      "    last_insert=0 #counts the number of sessions created\n",
      "    for i in range(1,len(example)-1):\n",
      "        if (example[i]-example[i-1]).total_seconds()<600:   #check if the time differences is less than 10 minutes\n",
      "            final_user_dict[x][last_insert]['views']+=1\n",
      "            final_user_dict[x][last_insert]['seconds_combined']+=(example[i]-example[i-1]).total_seconds()\n",
      "        elif (example[i]-example[i-1]).total_seconds()>=600:\n",
      "            dd={'begin_time':example[i],'views':1,'seconds_combined':0}\n",
      "            final_user_dict[x].append(dd)\n",
      "            last_insert+=1\n",
      "        else:\n",
      "            None"
     ],
     "language": "python",
     "metadata": {},
     "outputs": [],
     "prompt_number": 38
    },
    {
     "cell_type": "markdown",
     "metadata": {},
     "source": [
      "Put the \"dictionary inside a dictionary inside a dictionary\" into one easy Dataframe"
     ]
    },
    {
     "cell_type": "code",
     "collapsed": false,
     "input": [
      "session_df=pd.DataFrame(pd.concat(map(pd.DataFrame, final_user_dict.itervalues()), keys=final_user_dict.keys())).reset_index()"
     ],
     "language": "python",
     "metadata": {},
     "outputs": [],
     "prompt_number": 39
    },
    {
     "cell_type": "code",
     "collapsed": false,
     "input": [
      "session_df.columns=['user_id','session_id','session_start_time','session_length_seconds','views']"
     ],
     "language": "python",
     "metadata": {},
     "outputs": [],
     "prompt_number": 40
    },
    {
     "cell_type": "code",
     "collapsed": false,
     "input": [
      "session_df"
     ],
     "language": "python",
     "metadata": {},
     "outputs": [
      {
       "html": [
        "<div style=\"max-height:1000px;max-width:1500px;overflow:auto;\">\n",
        "<table border=\"1\" class=\"dataframe\">\n",
        "  <thead>\n",
        "    <tr style=\"text-align: right;\">\n",
        "      <th></th>\n",
        "      <th>user_id</th>\n",
        "      <th>session_id</th>\n",
        "      <th>session_start_time</th>\n",
        "      <th>session_length_seconds</th>\n",
        "      <th>views</th>\n",
        "    </tr>\n",
        "  </thead>\n",
        "  <tbody>\n",
        "    <tr>\n",
        "      <th>0   </th>\n",
        "      <td> 477c8e6cfa786f3009de2224672185add8ad17ea373518...</td>\n",
        "      <td> 0</td>\n",
        "      <td>2014-07-04 09:36:50</td>\n",
        "      <td>   38</td>\n",
        "      <td>  3</td>\n",
        "    </tr>\n",
        "    <tr>\n",
        "      <th>1   </th>\n",
        "      <td> 477c8e6cfa786f3009de2224672185add8ad17ea373518...</td>\n",
        "      <td> 1</td>\n",
        "      <td>2014-07-06 11:47:12</td>\n",
        "      <td>   89</td>\n",
        "      <td>  7</td>\n",
        "    </tr>\n",
        "    <tr>\n",
        "      <th>2   </th>\n",
        "      <td> 477c8e6cfa786f3009de2224672185add8ad17ea373518...</td>\n",
        "      <td> 2</td>\n",
        "      <td>2014-07-07 00:08:48</td>\n",
        "      <td>   51</td>\n",
        "      <td>  3</td>\n",
        "    </tr>\n",
        "    <tr>\n",
        "      <th>3   </th>\n",
        "      <td> 957217d4d176f9d1579287f7aab325fcc762e1da6e096c...</td>\n",
        "      <td> 0</td>\n",
        "      <td>2014-06-30 20:17:10</td>\n",
        "      <td>  103</td>\n",
        "      <td>  7</td>\n",
        "    </tr>\n",
        "    <tr>\n",
        "      <th>4   </th>\n",
        "      <td> 957217d4d176f9d1579287f7aab325fcc762e1da6e096c...</td>\n",
        "      <td> 1</td>\n",
        "      <td>2014-06-30 21:06:42</td>\n",
        "      <td>   36</td>\n",
        "      <td>  4</td>\n",
        "    </tr>\n",
        "    <tr>\n",
        "      <th>5   </th>\n",
        "      <td> 8f99b52fbd22fb371e28a673717e3abb4fb98959f614c8...</td>\n",
        "      <td> 0</td>\n",
        "      <td>2014-07-03 02:23:52</td>\n",
        "      <td>    0</td>\n",
        "      <td>  1</td>\n",
        "    </tr>\n",
        "    <tr>\n",
        "      <th>6   </th>\n",
        "      <td> b7ea8b0ab5b85f573644cf90f24096a812bb2d23106ea5...</td>\n",
        "      <td> 0</td>\n",
        "      <td>2014-07-05 14:58:04</td>\n",
        "      <td>  472</td>\n",
        "      <td>  5</td>\n",
        "    </tr>\n",
        "    <tr>\n",
        "      <th>7   </th>\n",
        "      <td> f995366573a9879342700eef30393a4dac9e326028fd6d...</td>\n",
        "      <td> 0</td>\n",
        "      <td>2014-07-04 11:32:10</td>\n",
        "      <td>  660</td>\n",
        "      <td> 16</td>\n",
        "    </tr>\n",
        "    <tr>\n",
        "      <th>8   </th>\n",
        "      <td> 6ddd3e4acbbfde2e4863688d53d47476a79271266eacc0...</td>\n",
        "      <td> 0</td>\n",
        "      <td>2014-07-02 02:50:17</td>\n",
        "      <td>  760</td>\n",
        "      <td> 15</td>\n",
        "    </tr>\n",
        "    <tr>\n",
        "      <th>9   </th>\n",
        "      <td> 6ddd3e4acbbfde2e4863688d53d47476a79271266eacc0...</td>\n",
        "      <td> 1</td>\n",
        "      <td>2014-07-04 04:08:09</td>\n",
        "      <td>  224</td>\n",
        "      <td>  7</td>\n",
        "    </tr>\n",
        "    <tr>\n",
        "      <th>10  </th>\n",
        "      <td> 6ddd3e4acbbfde2e4863688d53d47476a79271266eacc0...</td>\n",
        "      <td> 2</td>\n",
        "      <td>2014-07-04 04:31:04</td>\n",
        "      <td>  880</td>\n",
        "      <td> 13</td>\n",
        "    </tr>\n",
        "    <tr>\n",
        "      <th>11  </th>\n",
        "      <td> 968074d672639bbb1408c954ad0a8a5a191089a4ec3d28...</td>\n",
        "      <td> 0</td>\n",
        "      <td>2014-07-05 01:50:31</td>\n",
        "      <td>  104</td>\n",
        "      <td>  3</td>\n",
        "    </tr>\n",
        "    <tr>\n",
        "      <th>12  </th>\n",
        "      <td> 20a47b955178cc3fbf5a5643906aa327083462f98d8ed1...</td>\n",
        "      <td> 0</td>\n",
        "      <td>2014-07-04 06:28:37</td>\n",
        "      <td>    4</td>\n",
        "      <td>  2</td>\n",
        "    </tr>\n",
        "    <tr>\n",
        "      <th>13  </th>\n",
        "      <td> 20a47b955178cc3fbf5a5643906aa327083462f98d8ed1...</td>\n",
        "      <td> 1</td>\n",
        "      <td>2014-07-04 07:01:36</td>\n",
        "      <td>    4</td>\n",
        "      <td>  2</td>\n",
        "    </tr>\n",
        "    <tr>\n",
        "      <th>14  </th>\n",
        "      <td> 20a47b955178cc3fbf5a5643906aa327083462f98d8ed1...</td>\n",
        "      <td> 2</td>\n",
        "      <td>2014-07-04 15:14:22</td>\n",
        "      <td> 1112</td>\n",
        "      <td> 16</td>\n",
        "    </tr>\n",
        "    <tr>\n",
        "      <th>15  </th>\n",
        "      <td> 5074aef25656879693812c3395ba47ff280ebb595aef73...</td>\n",
        "      <td> 0</td>\n",
        "      <td>2014-07-04 12:54:49</td>\n",
        "      <td>  727</td>\n",
        "      <td>  6</td>\n",
        "    </tr>\n",
        "    <tr>\n",
        "      <th>16  </th>\n",
        "      <td> b0acbb7be5b58cf81a7c8e8dc7561befd5906052e31dd7...</td>\n",
        "      <td> 0</td>\n",
        "      <td>2014-07-05 16:45:16</td>\n",
        "      <td>  638</td>\n",
        "      <td> 18</td>\n",
        "    </tr>\n",
        "    <tr>\n",
        "      <th>17  </th>\n",
        "      <td> 5f156bf77fd09fb30a831489ce0e2c0ecd2f4eb7646e53...</td>\n",
        "      <td> 0</td>\n",
        "      <td>2014-07-06 16:00:23</td>\n",
        "      <td>    0</td>\n",
        "      <td>  1</td>\n",
        "    </tr>\n",
        "    <tr>\n",
        "      <th>18  </th>\n",
        "      <td> 5124ecb31ae98282faa487e22b63c8de84aa5f936d5cf8...</td>\n",
        "      <td> 0</td>\n",
        "      <td>2014-07-04 17:05:53</td>\n",
        "      <td>  388</td>\n",
        "      <td> 10</td>\n",
        "    </tr>\n",
        "    <tr>\n",
        "      <th>19  </th>\n",
        "      <td> 5124ecb31ae98282faa487e22b63c8de84aa5f936d5cf8...</td>\n",
        "      <td> 1</td>\n",
        "      <td>2014-07-04 23:22:56</td>\n",
        "      <td>  248</td>\n",
        "      <td>  5</td>\n",
        "    </tr>\n",
        "    <tr>\n",
        "      <th>20  </th>\n",
        "      <td> d057861de55f12d2546f50db7e9bad85a288c392c5f2a2...</td>\n",
        "      <td> 0</td>\n",
        "      <td>2014-07-02 21:19:47</td>\n",
        "      <td>    0</td>\n",
        "      <td>  1</td>\n",
        "    </tr>\n",
        "    <tr>\n",
        "      <th>21  </th>\n",
        "      <td> b9a2d5c232222d53dcbc940cb655c8cc32280e90b499f3...</td>\n",
        "      <td> 0</td>\n",
        "      <td>2014-07-01 03:52:48</td>\n",
        "      <td>  267</td>\n",
        "      <td> 12</td>\n",
        "    </tr>\n",
        "    <tr>\n",
        "      <th>22  </th>\n",
        "      <td> 4bb6829146f19884ca2308757caacd049883b449ec46ee...</td>\n",
        "      <td> 0</td>\n",
        "      <td>2014-07-04 05:00:39</td>\n",
        "      <td> 1323</td>\n",
        "      <td> 10</td>\n",
        "    </tr>\n",
        "    <tr>\n",
        "      <th>23  </th>\n",
        "      <td> 4bb6829146f19884ca2308757caacd049883b449ec46ee...</td>\n",
        "      <td> 1</td>\n",
        "      <td>2014-07-04 05:37:04</td>\n",
        "      <td> 2409</td>\n",
        "      <td> 19</td>\n",
        "    </tr>\n",
        "    <tr>\n",
        "      <th>24  </th>\n",
        "      <td> 3d0f4bdb8eaee6f46d0e3aaac2435d7e1093d06a8cb8d5...</td>\n",
        "      <td> 0</td>\n",
        "      <td>2014-07-01 14:56:55</td>\n",
        "      <td>  900</td>\n",
        "      <td>  9</td>\n",
        "    </tr>\n",
        "    <tr>\n",
        "      <th>25  </th>\n",
        "      <td> 3d0f4bdb8eaee6f46d0e3aaac2435d7e1093d06a8cb8d5...</td>\n",
        "      <td> 1</td>\n",
        "      <td>2014-07-02 22:21:27</td>\n",
        "      <td>  523</td>\n",
        "      <td>  6</td>\n",
        "    </tr>\n",
        "    <tr>\n",
        "      <th>26  </th>\n",
        "      <td> 3d0f4bdb8eaee6f46d0e3aaac2435d7e1093d06a8cb8d5...</td>\n",
        "      <td> 2</td>\n",
        "      <td>2014-07-05 05:34:39</td>\n",
        "      <td>  309</td>\n",
        "      <td>  4</td>\n",
        "    </tr>\n",
        "    <tr>\n",
        "      <th>27  </th>\n",
        "      <td> 3d0f4bdb8eaee6f46d0e3aaac2435d7e1093d06a8cb8d5...</td>\n",
        "      <td> 3</td>\n",
        "      <td>2014-07-06 00:02:22</td>\n",
        "      <td>  600</td>\n",
        "      <td>  9</td>\n",
        "    </tr>\n",
        "    <tr>\n",
        "      <th>28  </th>\n",
        "      <td> 3d0f4bdb8eaee6f46d0e3aaac2435d7e1093d06a8cb8d5...</td>\n",
        "      <td> 4</td>\n",
        "      <td>2014-07-06 05:00:29</td>\n",
        "      <td>  747</td>\n",
        "      <td>  4</td>\n",
        "    </tr>\n",
        "    <tr>\n",
        "      <th>29  </th>\n",
        "      <td> 3d0f4bdb8eaee6f46d0e3aaac2435d7e1093d06a8cb8d5...</td>\n",
        "      <td> 5</td>\n",
        "      <td>2014-07-07 01:46:16</td>\n",
        "      <td>  323</td>\n",
        "      <td>  6</td>\n",
        "    </tr>\n",
        "    <tr>\n",
        "      <th>...</th>\n",
        "      <td>...</td>\n",
        "      <td>...</td>\n",
        "      <td>...</td>\n",
        "      <td>...</td>\n",
        "      <td>...</td>\n",
        "    </tr>\n",
        "    <tr>\n",
        "      <th>1042</th>\n",
        "      <td> eab2d604b571ff1e5ddad6638dd38b20449ccd5dcdf1aa...</td>\n",
        "      <td> 2</td>\n",
        "      <td>2014-07-07 03:13:53</td>\n",
        "      <td>    6</td>\n",
        "      <td>  2</td>\n",
        "    </tr>\n",
        "    <tr>\n",
        "      <th>1043</th>\n",
        "      <td> a75e809ea00664f246b63b8206feeac4898a290c0f3df4...</td>\n",
        "      <td> 0</td>\n",
        "      <td>2014-07-01 15:22:03</td>\n",
        "      <td>    0</td>\n",
        "      <td>  1</td>\n",
        "    </tr>\n",
        "    <tr>\n",
        "      <th>1044</th>\n",
        "      <td> 6a4db5869c35c882933492f6dffd410b7666c8cff6f2fa...</td>\n",
        "      <td> 0</td>\n",
        "      <td>2014-07-04 21:36:45</td>\n",
        "      <td>    0</td>\n",
        "      <td>  1</td>\n",
        "    </tr>\n",
        "    <tr>\n",
        "      <th>1045</th>\n",
        "      <td> a9988294a6d5a1673191d778c5dd7f44bc0c88aae6c5a8...</td>\n",
        "      <td> 0</td>\n",
        "      <td>2014-07-05 20:11:38</td>\n",
        "      <td>    0</td>\n",
        "      <td>  1</td>\n",
        "    </tr>\n",
        "    <tr>\n",
        "      <th>1046</th>\n",
        "      <td> 8bf67b4e048893964904892c0a54a13ff2d045b325cb13...</td>\n",
        "      <td> 0</td>\n",
        "      <td>2014-06-30 06:34:24</td>\n",
        "      <td> 1215</td>\n",
        "      <td>  7</td>\n",
        "    </tr>\n",
        "    <tr>\n",
        "      <th>1047</th>\n",
        "      <td> 35a5f8e04d916c88963e4c27aa0ba71b3d7c6c41a9c48e...</td>\n",
        "      <td> 0</td>\n",
        "      <td>2014-07-04 12:58:57</td>\n",
        "      <td>  981</td>\n",
        "      <td> 20</td>\n",
        "    </tr>\n",
        "    <tr>\n",
        "      <th>1048</th>\n",
        "      <td> a0a2b087d98daaa77f5602fd932f4ed9d5318be81a67ae...</td>\n",
        "      <td> 0</td>\n",
        "      <td>2014-07-04 00:36:34</td>\n",
        "      <td>    0</td>\n",
        "      <td>  1</td>\n",
        "    </tr>\n",
        "    <tr>\n",
        "      <th>1049</th>\n",
        "      <td> a0a2b087d98daaa77f5602fd932f4ed9d5318be81a67ae...</td>\n",
        "      <td> 1</td>\n",
        "      <td>2014-07-05 04:37:49</td>\n",
        "      <td> 1722</td>\n",
        "      <td> 22</td>\n",
        "    </tr>\n",
        "    <tr>\n",
        "      <th>1050</th>\n",
        "      <td> 8ea9e8762d436ce4983431328635ef05e0ec47f04a1405...</td>\n",
        "      <td> 0</td>\n",
        "      <td>2014-07-04 06:19:07</td>\n",
        "      <td>    3</td>\n",
        "      <td>  2</td>\n",
        "    </tr>\n",
        "    <tr>\n",
        "      <th>1051</th>\n",
        "      <td> 72c8cb3013f7db304107cb29b83776b1f8737f9058433c...</td>\n",
        "      <td> 0</td>\n",
        "      <td>2014-07-05 01:42:57</td>\n",
        "      <td>  267</td>\n",
        "      <td> 15</td>\n",
        "    </tr>\n",
        "    <tr>\n",
        "      <th>1052</th>\n",
        "      <td> 72c8cb3013f7db304107cb29b83776b1f8737f9058433c...</td>\n",
        "      <td> 1</td>\n",
        "      <td>2014-07-05 03:03:25</td>\n",
        "      <td>    0</td>\n",
        "      <td>  1</td>\n",
        "    </tr>\n",
        "    <tr>\n",
        "      <th>1053</th>\n",
        "      <td> bfc622f5601f576d81429752b4ef31d5159c524c4833b1...</td>\n",
        "      <td> 0</td>\n",
        "      <td>2014-07-04 15:45:14</td>\n",
        "      <td>   60</td>\n",
        "      <td>  4</td>\n",
        "    </tr>\n",
        "    <tr>\n",
        "      <th>1054</th>\n",
        "      <td> bfc622f5601f576d81429752b4ef31d5159c524c4833b1...</td>\n",
        "      <td> 1</td>\n",
        "      <td>2014-07-04 19:19:39</td>\n",
        "      <td>  166</td>\n",
        "      <td>  5</td>\n",
        "    </tr>\n",
        "    <tr>\n",
        "      <th>1055</th>\n",
        "      <td> 94fa9e4ab1cc7b054a468815d1610410713ff4f624971b...</td>\n",
        "      <td> 0</td>\n",
        "      <td>2014-07-04 22:54:18</td>\n",
        "      <td>  101</td>\n",
        "      <td>  5</td>\n",
        "    </tr>\n",
        "    <tr>\n",
        "      <th>1056</th>\n",
        "      <td> 94fa9e4ab1cc7b054a468815d1610410713ff4f624971b...</td>\n",
        "      <td> 1</td>\n",
        "      <td>2014-07-05 13:55:55</td>\n",
        "      <td>  268</td>\n",
        "      <td>  4</td>\n",
        "    </tr>\n",
        "    <tr>\n",
        "      <th>1057</th>\n",
        "      <td> 94fa9e4ab1cc7b054a468815d1610410713ff4f624971b...</td>\n",
        "      <td> 2</td>\n",
        "      <td>2014-07-05 20:26:14</td>\n",
        "      <td>    0</td>\n",
        "      <td>  1</td>\n",
        "    </tr>\n",
        "    <tr>\n",
        "      <th>1058</th>\n",
        "      <td> 8f0a8212e471581a559ca0cf24abf042bd7407d581417a...</td>\n",
        "      <td> 0</td>\n",
        "      <td>2014-07-01 08:53:01</td>\n",
        "      <td>    0</td>\n",
        "      <td>  1</td>\n",
        "    </tr>\n",
        "    <tr>\n",
        "      <th>1059</th>\n",
        "      <td> 8f0a8212e471581a559ca0cf24abf042bd7407d581417a...</td>\n",
        "      <td> 1</td>\n",
        "      <td>2014-07-01 09:24:19</td>\n",
        "      <td>  341</td>\n",
        "      <td> 23</td>\n",
        "    </tr>\n",
        "    <tr>\n",
        "      <th>1060</th>\n",
        "      <td> 8f0a8212e471581a559ca0cf24abf042bd7407d581417a...</td>\n",
        "      <td> 2</td>\n",
        "      <td>2014-07-01 20:00:50</td>\n",
        "      <td>  963</td>\n",
        "      <td> 21</td>\n",
        "    </tr>\n",
        "    <tr>\n",
        "      <th>1061</th>\n",
        "      <td> bfe9292775cf00585e2ddc779f2d7c6283f5c91eb24cf4...</td>\n",
        "      <td> 0</td>\n",
        "      <td>2014-07-01 14:30:45</td>\n",
        "      <td>    0</td>\n",
        "      <td>  1</td>\n",
        "    </tr>\n",
        "    <tr>\n",
        "      <th>1062</th>\n",
        "      <td> 2a17a551761f562507470b39a591cad1d9d410afabd913...</td>\n",
        "      <td> 0</td>\n",
        "      <td>2014-07-04 17:08:45</td>\n",
        "      <td>    2</td>\n",
        "      <td>  2</td>\n",
        "    </tr>\n",
        "    <tr>\n",
        "      <th>1063</th>\n",
        "      <td> 9bd41b37311454d0e8db33ebe4fcc70c937ed824c1c33f...</td>\n",
        "      <td> 0</td>\n",
        "      <td>2014-07-04 21:07:03</td>\n",
        "      <td>   13</td>\n",
        "      <td>  2</td>\n",
        "    </tr>\n",
        "    <tr>\n",
        "      <th>1064</th>\n",
        "      <td> 1d0456b08b46fe1401147cba14e8334c7a26e77b6b0b7f...</td>\n",
        "      <td> 0</td>\n",
        "      <td>2014-07-04 18:09:35</td>\n",
        "      <td>    0</td>\n",
        "      <td>  1</td>\n",
        "    </tr>\n",
        "    <tr>\n",
        "      <th>1065</th>\n",
        "      <td> 1160faf1f9dc27954ac3a520df45141b14c58f45896f73...</td>\n",
        "      <td> 0</td>\n",
        "      <td>2014-07-05 02:15:07</td>\n",
        "      <td>  635</td>\n",
        "      <td>  5</td>\n",
        "    </tr>\n",
        "    <tr>\n",
        "      <th>1066</th>\n",
        "      <td> 1160faf1f9dc27954ac3a520df45141b14c58f45896f73...</td>\n",
        "      <td> 1</td>\n",
        "      <td>2014-07-05 02:42:20</td>\n",
        "      <td>    1</td>\n",
        "      <td>  2</td>\n",
        "    </tr>\n",
        "    <tr>\n",
        "      <th>1067</th>\n",
        "      <td> 050bbf4867fbe7b62951726c5e15a46b53dd2384c5805f...</td>\n",
        "      <td> 0</td>\n",
        "      <td>2014-07-02 00:49:56</td>\n",
        "      <td>  184</td>\n",
        "      <td>  2</td>\n",
        "    </tr>\n",
        "    <tr>\n",
        "      <th>1068</th>\n",
        "      <td> 64f23e154e465828190eaec5f072976da39fd3a5a92666...</td>\n",
        "      <td> 0</td>\n",
        "      <td>2014-07-02 02:40:26</td>\n",
        "      <td>  202</td>\n",
        "      <td>  8</td>\n",
        "    </tr>\n",
        "    <tr>\n",
        "      <th>1069</th>\n",
        "      <td> 64f23e154e465828190eaec5f072976da39fd3a5a92666...</td>\n",
        "      <td> 1</td>\n",
        "      <td>2014-07-03 14:15:18</td>\n",
        "      <td> 1162</td>\n",
        "      <td> 38</td>\n",
        "    </tr>\n",
        "    <tr>\n",
        "      <th>1070</th>\n",
        "      <td> 64f23e154e465828190eaec5f072976da39fd3a5a92666...</td>\n",
        "      <td> 2</td>\n",
        "      <td>2014-07-05 00:49:40</td>\n",
        "      <td>   29</td>\n",
        "      <td>  3</td>\n",
        "    </tr>\n",
        "    <tr>\n",
        "      <th>1071</th>\n",
        "      <td> 64f23e154e465828190eaec5f072976da39fd3a5a92666...</td>\n",
        "      <td> 3</td>\n",
        "      <td>2014-07-06 01:45:24</td>\n",
        "      <td>   59</td>\n",
        "      <td>  3</td>\n",
        "    </tr>\n",
        "  </tbody>\n",
        "</table>\n",
        "<p>1072 rows \u00d7 5 columns</p>\n",
        "</div>"
       ],
       "metadata": {},
       "output_type": "pyout",
       "prompt_number": 41,
       "text": [
        "                                                user_id  session_id  \\\n",
        "0     477c8e6cfa786f3009de2224672185add8ad17ea373518...           0   \n",
        "1     477c8e6cfa786f3009de2224672185add8ad17ea373518...           1   \n",
        "2     477c8e6cfa786f3009de2224672185add8ad17ea373518...           2   \n",
        "3     957217d4d176f9d1579287f7aab325fcc762e1da6e096c...           0   \n",
        "4     957217d4d176f9d1579287f7aab325fcc762e1da6e096c...           1   \n",
        "5     8f99b52fbd22fb371e28a673717e3abb4fb98959f614c8...           0   \n",
        "6     b7ea8b0ab5b85f573644cf90f24096a812bb2d23106ea5...           0   \n",
        "7     f995366573a9879342700eef30393a4dac9e326028fd6d...           0   \n",
        "8     6ddd3e4acbbfde2e4863688d53d47476a79271266eacc0...           0   \n",
        "9     6ddd3e4acbbfde2e4863688d53d47476a79271266eacc0...           1   \n",
        "10    6ddd3e4acbbfde2e4863688d53d47476a79271266eacc0...           2   \n",
        "11    968074d672639bbb1408c954ad0a8a5a191089a4ec3d28...           0   \n",
        "12    20a47b955178cc3fbf5a5643906aa327083462f98d8ed1...           0   \n",
        "13    20a47b955178cc3fbf5a5643906aa327083462f98d8ed1...           1   \n",
        "14    20a47b955178cc3fbf5a5643906aa327083462f98d8ed1...           2   \n",
        "15    5074aef25656879693812c3395ba47ff280ebb595aef73...           0   \n",
        "16    b0acbb7be5b58cf81a7c8e8dc7561befd5906052e31dd7...           0   \n",
        "17    5f156bf77fd09fb30a831489ce0e2c0ecd2f4eb7646e53...           0   \n",
        "18    5124ecb31ae98282faa487e22b63c8de84aa5f936d5cf8...           0   \n",
        "19    5124ecb31ae98282faa487e22b63c8de84aa5f936d5cf8...           1   \n",
        "20    d057861de55f12d2546f50db7e9bad85a288c392c5f2a2...           0   \n",
        "21    b9a2d5c232222d53dcbc940cb655c8cc32280e90b499f3...           0   \n",
        "22    4bb6829146f19884ca2308757caacd049883b449ec46ee...           0   \n",
        "23    4bb6829146f19884ca2308757caacd049883b449ec46ee...           1   \n",
        "24    3d0f4bdb8eaee6f46d0e3aaac2435d7e1093d06a8cb8d5...           0   \n",
        "25    3d0f4bdb8eaee6f46d0e3aaac2435d7e1093d06a8cb8d5...           1   \n",
        "26    3d0f4bdb8eaee6f46d0e3aaac2435d7e1093d06a8cb8d5...           2   \n",
        "27    3d0f4bdb8eaee6f46d0e3aaac2435d7e1093d06a8cb8d5...           3   \n",
        "28    3d0f4bdb8eaee6f46d0e3aaac2435d7e1093d06a8cb8d5...           4   \n",
        "29    3d0f4bdb8eaee6f46d0e3aaac2435d7e1093d06a8cb8d5...           5   \n",
        "...                                                 ...         ...   \n",
        "1042  eab2d604b571ff1e5ddad6638dd38b20449ccd5dcdf1aa...           2   \n",
        "1043  a75e809ea00664f246b63b8206feeac4898a290c0f3df4...           0   \n",
        "1044  6a4db5869c35c882933492f6dffd410b7666c8cff6f2fa...           0   \n",
        "1045  a9988294a6d5a1673191d778c5dd7f44bc0c88aae6c5a8...           0   \n",
        "1046  8bf67b4e048893964904892c0a54a13ff2d045b325cb13...           0   \n",
        "1047  35a5f8e04d916c88963e4c27aa0ba71b3d7c6c41a9c48e...           0   \n",
        "1048  a0a2b087d98daaa77f5602fd932f4ed9d5318be81a67ae...           0   \n",
        "1049  a0a2b087d98daaa77f5602fd932f4ed9d5318be81a67ae...           1   \n",
        "1050  8ea9e8762d436ce4983431328635ef05e0ec47f04a1405...           0   \n",
        "1051  72c8cb3013f7db304107cb29b83776b1f8737f9058433c...           0   \n",
        "1052  72c8cb3013f7db304107cb29b83776b1f8737f9058433c...           1   \n",
        "1053  bfc622f5601f576d81429752b4ef31d5159c524c4833b1...           0   \n",
        "1054  bfc622f5601f576d81429752b4ef31d5159c524c4833b1...           1   \n",
        "1055  94fa9e4ab1cc7b054a468815d1610410713ff4f624971b...           0   \n",
        "1056  94fa9e4ab1cc7b054a468815d1610410713ff4f624971b...           1   \n",
        "1057  94fa9e4ab1cc7b054a468815d1610410713ff4f624971b...           2   \n",
        "1058  8f0a8212e471581a559ca0cf24abf042bd7407d581417a...           0   \n",
        "1059  8f0a8212e471581a559ca0cf24abf042bd7407d581417a...           1   \n",
        "1060  8f0a8212e471581a559ca0cf24abf042bd7407d581417a...           2   \n",
        "1061  bfe9292775cf00585e2ddc779f2d7c6283f5c91eb24cf4...           0   \n",
        "1062  2a17a551761f562507470b39a591cad1d9d410afabd913...           0   \n",
        "1063  9bd41b37311454d0e8db33ebe4fcc70c937ed824c1c33f...           0   \n",
        "1064  1d0456b08b46fe1401147cba14e8334c7a26e77b6b0b7f...           0   \n",
        "1065  1160faf1f9dc27954ac3a520df45141b14c58f45896f73...           0   \n",
        "1066  1160faf1f9dc27954ac3a520df45141b14c58f45896f73...           1   \n",
        "1067  050bbf4867fbe7b62951726c5e15a46b53dd2384c5805f...           0   \n",
        "1068  64f23e154e465828190eaec5f072976da39fd3a5a92666...           0   \n",
        "1069  64f23e154e465828190eaec5f072976da39fd3a5a92666...           1   \n",
        "1070  64f23e154e465828190eaec5f072976da39fd3a5a92666...           2   \n",
        "1071  64f23e154e465828190eaec5f072976da39fd3a5a92666...           3   \n",
        "\n",
        "      session_start_time  session_length_seconds  views  \n",
        "0    2014-07-04 09:36:50                      38      3  \n",
        "1    2014-07-06 11:47:12                      89      7  \n",
        "2    2014-07-07 00:08:48                      51      3  \n",
        "3    2014-06-30 20:17:10                     103      7  \n",
        "4    2014-06-30 21:06:42                      36      4  \n",
        "5    2014-07-03 02:23:52                       0      1  \n",
        "6    2014-07-05 14:58:04                     472      5  \n",
        "7    2014-07-04 11:32:10                     660     16  \n",
        "8    2014-07-02 02:50:17                     760     15  \n",
        "9    2014-07-04 04:08:09                     224      7  \n",
        "10   2014-07-04 04:31:04                     880     13  \n",
        "11   2014-07-05 01:50:31                     104      3  \n",
        "12   2014-07-04 06:28:37                       4      2  \n",
        "13   2014-07-04 07:01:36                       4      2  \n",
        "14   2014-07-04 15:14:22                    1112     16  \n",
        "15   2014-07-04 12:54:49                     727      6  \n",
        "16   2014-07-05 16:45:16                     638     18  \n",
        "17   2014-07-06 16:00:23                       0      1  \n",
        "18   2014-07-04 17:05:53                     388     10  \n",
        "19   2014-07-04 23:22:56                     248      5  \n",
        "20   2014-07-02 21:19:47                       0      1  \n",
        "21   2014-07-01 03:52:48                     267     12  \n",
        "22   2014-07-04 05:00:39                    1323     10  \n",
        "23   2014-07-04 05:37:04                    2409     19  \n",
        "24   2014-07-01 14:56:55                     900      9  \n",
        "25   2014-07-02 22:21:27                     523      6  \n",
        "26   2014-07-05 05:34:39                     309      4  \n",
        "27   2014-07-06 00:02:22                     600      9  \n",
        "28   2014-07-06 05:00:29                     747      4  \n",
        "29   2014-07-07 01:46:16                     323      6  \n",
        "...                  ...                     ...    ...  \n",
        "1042 2014-07-07 03:13:53                       6      2  \n",
        "1043 2014-07-01 15:22:03                       0      1  \n",
        "1044 2014-07-04 21:36:45                       0      1  \n",
        "1045 2014-07-05 20:11:38                       0      1  \n",
        "1046 2014-06-30 06:34:24                    1215      7  \n",
        "1047 2014-07-04 12:58:57                     981     20  \n",
        "1048 2014-07-04 00:36:34                       0      1  \n",
        "1049 2014-07-05 04:37:49                    1722     22  \n",
        "1050 2014-07-04 06:19:07                       3      2  \n",
        "1051 2014-07-05 01:42:57                     267     15  \n",
        "1052 2014-07-05 03:03:25                       0      1  \n",
        "1053 2014-07-04 15:45:14                      60      4  \n",
        "1054 2014-07-04 19:19:39                     166      5  \n",
        "1055 2014-07-04 22:54:18                     101      5  \n",
        "1056 2014-07-05 13:55:55                     268      4  \n",
        "1057 2014-07-05 20:26:14                       0      1  \n",
        "1058 2014-07-01 08:53:01                       0      1  \n",
        "1059 2014-07-01 09:24:19                     341     23  \n",
        "1060 2014-07-01 20:00:50                     963     21  \n",
        "1061 2014-07-01 14:30:45                       0      1  \n",
        "1062 2014-07-04 17:08:45                       2      2  \n",
        "1063 2014-07-04 21:07:03                      13      2  \n",
        "1064 2014-07-04 18:09:35                       0      1  \n",
        "1065 2014-07-05 02:15:07                     635      5  \n",
        "1066 2014-07-05 02:42:20                       1      2  \n",
        "1067 2014-07-02 00:49:56                     184      2  \n",
        "1068 2014-07-02 02:40:26                     202      8  \n",
        "1069 2014-07-03 14:15:18                    1162     38  \n",
        "1070 2014-07-05 00:49:40                      29      3  \n",
        "1071 2014-07-06 01:45:24                      59      3  \n",
        "\n",
        "[1072 rows x 5 columns]"
       ]
      }
     ],
     "prompt_number": 41
    },
    {
     "cell_type": "markdown",
     "metadata": {},
     "source": [
      "create a weekday column"
     ]
    },
    {
     "cell_type": "code",
     "collapsed": false,
     "input": [
      "session_df['weekday']=session_df['session_start_time'].apply(lambda x: x.strftime('%m-%d-%Y- %A'))"
     ],
     "language": "python",
     "metadata": {},
     "outputs": [],
     "prompt_number": 42
    },
    {
     "cell_type": "markdown",
     "metadata": {},
     "source": [
      "By combining session_id and user_id, we create a column that distinctly identifies a session"
     ]
    },
    {
     "cell_type": "code",
     "collapsed": false,
     "input": [
      "session_df[\"session_id\"] = session_df[\"session_id\"].map(str) + session_df[\"user_id\"]"
     ],
     "language": "python",
     "metadata": {},
     "outputs": [],
     "prompt_number": 43
    },
    {
     "cell_type": "markdown",
     "metadata": {},
     "source": [
      "these calculations help find the number of sessions per user, and per user/per day"
     ]
    },
    {
     "cell_type": "code",
     "collapsed": false,
     "input": [
      "sessions_per_day=session_df.groupby(\"weekday\").agg({\"session_id\": pd.Series.nunique}).reset_index()"
     ],
     "language": "python",
     "metadata": {},
     "outputs": [],
     "prompt_number": 44
    },
    {
     "cell_type": "code",
     "collapsed": false,
     "input": [
      "users_per_day=session_df.groupby(\"weekday\").agg({\"user_id\": pd.Series.nunique}).reset_index()"
     ],
     "language": "python",
     "metadata": {},
     "outputs": [],
     "prompt_number": 45
    },
    {
     "cell_type": "heading",
     "level": 1,
     "metadata": {},
     "source": [
      "Creating a view of sessions per day"
     ]
    },
    {
     "cell_type": "code",
     "collapsed": false,
     "input": [
      "values=sessions_per_day['session_id']\n",
      "dates=sessions_per_day['weekday']"
     ],
     "language": "python",
     "metadata": {},
     "outputs": [],
     "prompt_number": 46
    },
    {
     "cell_type": "code",
     "collapsed": false,
     "input": [
      "outlier_session=session_df[(session_df[\"session_start_time\"] <datetime.datetime(2014, 7, 4, 0, 0)) | (session_df[\"session_start_time\"]>=datetime.datetime(2014, 7, 6, 0, 0)) ]"
     ],
     "language": "python",
     "metadata": {},
     "outputs": [],
     "prompt_number": 47
    },
    {
     "cell_type": "code",
     "collapsed": false,
     "input": [
      "outlier_session=outlier_session.groupby(\"weekday\").agg({\"session_id\": pd.Series.nunique}).reset_index()"
     ],
     "language": "python",
     "metadata": {},
     "outputs": [],
     "prompt_number": 48
    },
    {
     "cell_type": "code",
     "collapsed": false,
     "input": [
      "outlier_session2=session_df[(session_df[\"session_start_time\"] <datetime.datetime(2014, 7, 4, 0, 0)) | (session_df[\"session_start_time\"]>=datetime.datetime(2014, 7, 5, 0, 0)) ]"
     ],
     "language": "python",
     "metadata": {},
     "outputs": [],
     "prompt_number": 49
    },
    {
     "cell_type": "code",
     "collapsed": false,
     "input": [
      "outlier_session2=outlier_session2.groupby(\"weekday\").agg({\"session_id\": pd.Series.nunique}).reset_index()"
     ],
     "language": "python",
     "metadata": {},
     "outputs": [],
     "prompt_number": 50
    },
    {
     "cell_type": "code",
     "collapsed": false,
     "input": [
      "values2=outlier_session['session_id']\n",
      "values3=outlier_session2['session_id']"
     ],
     "language": "python",
     "metadata": {},
     "outputs": [],
     "prompt_number": 96
    },
    {
     "cell_type": "markdown",
     "metadata": {},
     "source": [
      "Following the same logic as before, let's look at the averages of 1.) total average (red), 2.) average excluding 7/4 (green), and 3.) average excluding 7/4 and 7/5 (yellow). Like before, the true average probably falls between 83 and 134"
     ]
    },
    {
     "cell_type": "code",
     "collapsed": false,
     "input": [
      "matplotlib.rcParams.update({'font.size': 25})\n",
      "fig = pl.figure(num=None, figsize=(50, 20), dpi=20)\n",
      "ax = pl.subplot(111)\n",
      "width=.8\n",
      "ax.bar(range(len(dates)), values, width=width)\n",
      "ax.set_xticks(np.arange(len(dates)) + width/2)\n",
      "ax.set_xticklabels(dates, rotation=0)\n",
      "ax.axhline(values.mean(), color='red', linewidth=5)\n",
      "ax.annotate('Mean : %.2f'%(values.mean()), xy=(1, 140), xytext=(1.07,140),size=40,color='red',)\n",
      "ax.axhline(values2.mean(), color='Gold', linewidth=5)\n",
      "ax.annotate('Mean : %.2f'%(values2.mean()), xy=(1, 60), xytext=(1.02,60),size=40,color='Gold',)\n",
      "ax.axhline(values3.mean(), color='green', linewidth=5)\n",
      "ax.annotate('Mean : %.2f'%(values3.mean()), xy=(7, 100), xytext=(7,100),size=40,color='green',)\n",
      "ax.set_ylim([0,500])\n",
      "pl.show()"
     ],
     "language": "python",
     "metadata": {},
     "outputs": [
      {
       "metadata": {},
       "output_type": "display_data",
       "png": "[encoded data removed]",
       "text": [
        "<matplotlib.figure.Figure at 0x7fc0c7e0bc10>"
       ]
      }
     ],
     "prompt_number": 97
    },
    {
     "cell_type": "heading",
     "level": 1,
     "metadata": {},
     "source": [
      "Unlike our other metrics, the average number of sessions per user (per day) stayed pretty consistent throughout the week"
     ]
    },
    {
     "cell_type": "markdown",
     "metadata": {},
     "source": [
      "This metric is saying: of the users that logged on that day, what was the average number of sessions?"
     ]
    },
    {
     "cell_type": "code",
     "collapsed": false,
     "input": [
      "values=sessions_per_day['session_id']/users_per_day['user_id']\n",
      "dates=sessions_per_day['weekday']"
     ],
     "language": "python",
     "metadata": {},
     "outputs": [],
     "prompt_number": 53
    },
    {
     "cell_type": "code",
     "collapsed": false,
     "input": [
      "matplotlib.rcParams.update({'font.size': 25})\n",
      "fig = pl.figure(num=None, figsize=(50, 20), dpi=50)\n",
      "ax = pl.subplot(111)\n",
      "width=.8\n",
      "ax.bar(range(len(dates)), values, width=width)\n",
      "ax.set_xticks(np.arange(len(dates)) + width/2)\n",
      "ax.set_xticklabels(dates, rotation=0)\n",
      "ax.axhline(values.mean(), color='red', linewidth=2)\n",
      "ax.annotate('Mean:%s'%(values.mean()), xy=(1, 2), xytext=(1,2),size=40,color='red',)\n",
      "ax.set_ylim([0,3])\n",
      "pl.show()"
     ],
     "language": "python",
     "metadata": {},
     "outputs": [
      {
       "metadata": {},
       "output_type": "display_data",
       "png": "[encoded data removed]",
       "text": [
        "<matplotlib.figure.Figure at 0x7fc0c7e99550>"
       ]
      }
     ],
     "prompt_number": 54
    },
    {
     "cell_type": "heading",
     "level": 1,
     "metadata": {},
     "source": [
      "How does session activity look at the user-level?"
     ]
    },
    {
     "cell_type": "code",
     "collapsed": false,
     "input": [
      "sessions_per_user_per_day=session_df.groupby(\"user_id\").agg({\"session_id\": pd.Series.nunique}).reset_index()"
     ],
     "language": "python",
     "metadata": {},
     "outputs": [],
     "prompt_number": 55
    },
    {
     "cell_type": "code",
     "collapsed": false,
     "input": [
      "values=sessions_per_user_per_day['session_id']\n",
      "dates=sessions_per_user_per_day['user_id']"
     ],
     "language": "python",
     "metadata": {},
     "outputs": [],
     "prompt_number": 56
    },
    {
     "cell_type": "heading",
     "level": 4,
     "metadata": {},
     "source": [
      "Both figures show below that while there are some outliers, most users had one session during the week we're looking at"
     ]
    },
    {
     "cell_type": "markdown",
     "metadata": {},
     "source": [
      "Note: This mean is referring to the average number of sessions per week (per user), which explains why it is larger than the 1.63 mean above"
     ]
    },
    {
     "cell_type": "code",
     "collapsed": false,
     "input": [
      "matplotlib.rcParams.update({'font.size': 25})\n",
      "fig = pl.figure(num=None, figsize=(50, 20), dpi=50)\n",
      "ax = pl.subplot(111)\n",
      "width=.8\n",
      "ax.bar(range(len(dates)), values, width=width)\n",
      "ax.set_xticks(np.arange(len(dates)) + width/2)\n",
      "ax.set_xticklabels(dates, rotation=0)\n",
      "ax.axhline(values.mean(), color='red', linewidth=2)\n",
      "ax.annotate('Mean:%s'%(values.mean()), xy=(1, 30), xytext=(1,30),size=40,color='red',)\n",
      "ax.set_ylim([0,40])\n",
      "ax.axes.get_xaxis().set_visible(False)\n",
      "pl.show()"
     ],
     "language": "python",
     "metadata": {},
     "outputs": [
      {
       "metadata": {},
       "output_type": "display_data",
       "png": "[encoded data removed]",
       "text": [
        "<matplotlib.figure.Figure at 0x7fc0c7956ed0>"
       ]
      }
     ],
     "prompt_number": 57
    },
    {
     "cell_type": "markdown",
     "metadata": {},
     "source": [
      "This shows the # of occurences, by user, of how many occured sessions during that week"
     ]
    },
    {
     "cell_type": "markdown",
     "metadata": {},
     "source": [
      "Note: 10 refers to all values greater than or equal to 10"
     ]
    },
    {
     "cell_type": "code",
     "collapsed": false,
     "input": [
      "n, bins, patches = pl.hist(values.where(values<10, 10), 40,facecolor='green', alpha=.5)\n",
      "pl.xlabel('Sessions')\n",
      "pl.ylabel('Frequency')\n",
      "pl.grid(True)"
     ],
     "language": "python",
     "metadata": {},
     "outputs": [
      {
       "metadata": {},
       "output_type": "display_data",
       "png": "[encoded data removed]",
       "text": [
        "<matplotlib.figure.Figure at 0x7fc0c5fc2910>"
       ]
      }
     ],
     "prompt_number": 70
    },
    {
     "cell_type": "code",
     "collapsed": false,
     "input": [],
     "language": "python",
     "metadata": {},
     "outputs": []
    }
   ],
   "metadata": {}
  }
 ]
}
