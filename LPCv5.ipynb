{
 "metadata": {
  "name": "",
  "signature": "sha256:194924f54a94eeb6076338a7f7ff204a9f60cd801103bbce0e712ee29c9e965c"
 },
 "nbformat": 3,
 "nbformat_minor": 0,
 "worksheets": [
  {
   "cells": [
    {
     "cell_type": "code",
     "collapsed": false,
     "input": [
      "import numpy as np\n",
      "import re\n",
      "import pandas as pd\n",
      "from itertools import combinations\n",
      "from itertools import groupby\n",
      "from collections import Counter\n",
      "import json\n",
      "import pyparsing as py\n",
      "import operator\n",
      "from __future__ import division\n",
      "import random\n",
      "import math\n",
      "import jellyfish as jf\n",
      "import urllib\n",
      "import urllib2\n",
      "import requests\n",
      "import json"
     ],
     "language": "python",
     "metadata": {},
     "outputs": [],
     "prompt_number": 1
    },
    {
     "cell_type": "code",
     "collapsed": false,
     "input": [
      "import difflib"
     ],
     "language": "python",
     "metadata": {},
     "outputs": [],
     "prompt_number": 7
    },
    {
     "cell_type": "code",
     "collapsed": false,
     "input": [
      "import scipy"
     ],
     "language": "python",
     "metadata": {},
     "outputs": [],
     "prompt_number": 8
    },
    {
     "cell_type": "heading",
     "level": 3,
     "metadata": {},
     "source": [
      "Pulling in Excel File"
     ]
    },
    {
     "cell_type": "code",
     "collapsed": false,
     "input": [
      "xl = pd.ExcelFile(\"/home/xgl470/LPC.xlsx\")"
     ],
     "language": "python",
     "metadata": {},
     "outputs": [],
     "prompt_number": 15
    },
    {
     "cell_type": "code",
     "collapsed": false,
     "input": [
      "xl.sheet_names\n",
      "[u'Sheet1', u'Sheet2', u'Sheet3']"
     ],
     "language": "python",
     "metadata": {},
     "outputs": [
      {
       "metadata": {},
       "output_type": "pyout",
       "prompt_number": 16,
       "text": [
        "[u'Sheet1', u'Sheet2', u'Sheet3']"
       ]
      }
     ],
     "prompt_number": 16
    },
    {
     "cell_type": "code",
     "collapsed": false,
     "input": [
      "df = xl.parse(\"Sheet1\")"
     ],
     "language": "python",
     "metadata": {},
     "outputs": [],
     "prompt_number": 17
    },
    {
     "cell_type": "code",
     "collapsed": false,
     "input": [
      "my_list = df[\"All Lenders\"].tolist()"
     ],
     "language": "python",
     "metadata": {},
     "outputs": [],
     "prompt_number": 8
    },
    {
     "cell_type": "code",
     "collapsed": false,
     "input": [
      "final_list=[str(x)for x in my_list ]"
     ],
     "language": "python",
     "metadata": {},
     "outputs": [],
     "prompt_number": 9
    },
    {
     "cell_type": "heading",
     "level": 4,
     "metadata": {},
     "source": [
      "removing \"N/A\" Columns"
     ]
    },
    {
     "cell_type": "code",
     "collapsed": false,
     "input": [
      "if 'nan' in final_list: final_list.remove('nan')"
     ],
     "language": "python",
     "metadata": {},
     "outputs": [],
     "prompt_number": 10
    },
    {
     "cell_type": "heading",
     "level": 3,
     "metadata": {},
     "source": [
      "Creating Functions"
     ]
    },
    {
     "cell_type": "heading",
     "level": 4,
     "metadata": {},
     "source": [
      "Splitting each entry by ':', which is the only form of structure in the data. Adding ':' to distinguish titles vs. Banks"
     ]
    },
    {
     "cell_type": "code",
     "collapsed": false,
     "input": [
      "def strip(x,index):\n",
      "    if x.count(':')==index:\n",
      "        return x.split(':')[index].strip()\n",
      "    elif x.count(':')>=index:\n",
      "        return x.split(':')[index].strip()+\":\"\n",
      "    else:\n",
      "        return "
     ],
     "language": "python",
     "metadata": {},
     "outputs": [],
     "prompt_number": 11
    },
    {
     "cell_type": "heading",
     "level": 4,
     "metadata": {},
     "source": [
      "These functions return either the last word in a string, or last two/three"
     ]
    },
    {
     "cell_type": "code",
     "collapsed": false,
     "input": [
      "def return_last_word(x):\n",
      "    return ((re.compile('\\S+[.]*$')).search(x)).group()"
     ],
     "language": "python",
     "metadata": {},
     "outputs": [],
     "prompt_number": 12
    },
    {
     "cell_type": "code",
     "collapsed": false,
     "input": [
      "def return_last2_words(x):\n",
      "    return ((re.compile('\\S+ \\S+[.]*$')).search(x)).group()"
     ],
     "language": "python",
     "metadata": {},
     "outputs": [],
     "prompt_number": 13
    },
    {
     "cell_type": "code",
     "collapsed": false,
     "input": [
      "def return_last3_words(x):\n",
      "    return ((re.compile('\\S+ \\S+ \\S+[.]*$')).search(x)).group()"
     ],
     "language": "python",
     "metadata": {},
     "outputs": [],
     "prompt_number": 14
    },
    {
     "cell_type": "heading",
     "level": 4,
     "metadata": {},
     "source": [
      "Algorithm used to Score Bank Names"
     ]
    },
    {
     "cell_type": "heading",
     "level": 4,
     "metadata": {},
     "source": [
      "Pulling the possible categories (Lead, Participant, etc...) by pulling the last two words before the ':'"
     ]
    },
    {
     "cell_type": "code",
     "collapsed": false,
     "input": [
      "def titles(x):\n",
      "    if x is None:\n",
      "        new=None\n",
      "    elif int(len(x.split()))==1 and ':' in x:\n",
      "        new=return_last_word(x)\n",
      "    elif int(len(x.split()))>=2 and ':' in x:\n",
      "        new=return_last2_words(x)\n",
      "    else:\n",
      "        new=None\n",
      "    if new is not None:\n",
      "        new=new.translate(None, ':')\n",
      "    return new"
     ],
     "language": "python",
     "metadata": {},
     "outputs": [],
     "prompt_number": 15
    },
    {
     "cell_type": "code",
     "collapsed": false,
     "input": [
      "def titles_of_three(x):\n",
      "    if x is None:\n",
      "        new=None\n",
      "    elif int(len(x.split()))==1 and ':' in x:\n",
      "        new=return_last_word(x)\n",
      "    elif int(len(x.split()))==2 and ':' in x:\n",
      "        new=return_last2_words(x)\n",
      "    elif int(len(x.split()))>=3 and ':' in x:\n",
      "        new=return_last3_words(x)\n",
      "    else:\n",
      "        new=None\n",
      "    if new is not None:\n",
      "        new=new.translate(None, ':')\n",
      "    return new"
     ],
     "language": "python",
     "metadata": {},
     "outputs": [],
     "prompt_number": 16
    },
    {
     "cell_type": "heading",
     "level": 4,
     "metadata": {},
     "source": [
      "This function creates new lists for each grouping"
     ]
    },
    {
     "cell_type": "code",
     "collapsed": false,
     "input": [
      "def title_splits(group, new_list):\n",
      "    for x in group:\n",
      "        new_list.append(titles(x))\n",
      "        all_titles.append(titles(x))\n",
      "        all_titles_three.append(titles_of_three(x))"
     ],
     "language": "python",
     "metadata": {},
     "outputs": [],
     "prompt_number": 17
    },
    {
     "cell_type": "heading",
     "level": 4,
     "metadata": {},
     "source": [
      "Finds the most commonly used single word for titles"
     ]
    },
    {
     "cell_type": "code",
     "collapsed": false,
     "input": [
      "def collect(lines):\n",
      "    pair_counter = Counter()\n",
      "    for line in lines:\n",
      "        unique_tokens = sorted(line.split(), key=str.lower)  # eval will convert each line into a tuple before converting the tuple to a set\n",
      "        combos = combinations(unique_tokens, 1)\n",
      "        pair_counter += Counter(combos)\n",
      "    return pair_counter # return the actual Counter object"
     ],
     "language": "python",
     "metadata": {},
     "outputs": [],
     "prompt_number": 18
    },
    {
     "cell_type": "heading",
     "level": 4,
     "metadata": {},
     "source": [
      "Finds the most commonly used word combinations for titles"
     ]
    },
    {
     "cell_type": "code",
     "collapsed": false,
     "input": [
      "def collect_pairs(lines):\n",
      "    pair_counter = Counter()\n",
      "    for line in lines:\n",
      "        unique_tokens = sorted(line.split(','), key=str.lower)  # eval will convert each line into a tuple before converting the tuple to a set\n",
      "        combos = combinations(unique_tokens, 1)\n",
      "        pair_counter += Counter(combos)\n",
      "    return pair_counter # return the actual Counter object"
     ],
     "language": "python",
     "metadata": {},
     "outputs": [],
     "prompt_number": 19
    },
    {
     "cell_type": "heading",
     "level": 4,
     "metadata": {},
     "source": [
      "Finds the most common 3 pairs"
     ]
    },
    {
     "cell_type": "code",
     "collapsed": false,
     "input": [
      "def collect_3pairs(lines):\n",
      "    pair_counter = Counter()\n",
      "    for line in lines:\n",
      "        unique_tokens = sorted(line.split(','), key=str.lower)  # eval will convert each line into a tuple before converting the tuple to a set\n",
      "        combos = combinations(unique_tokens, 1)\n",
      "        pair_counter += Counter(combos)\n",
      "    return pair_counter # return the actual Counter object"
     ],
     "language": "python",
     "metadata": {},
     "outputs": [],
     "prompt_number": 20
    },
    {
     "cell_type": "heading",
     "level": 4,
     "metadata": {},
     "source": [
      "Removes specific keywords from a list (and the keywords I want to remove)."
     ]
    },
    {
     "cell_type": "code",
     "collapsed": false,
     "input": [
      "def filter_titles(input_list, word):\n",
      "    for x in input_list:\n",
      "        input_list[input_list.index(x)]=str(x).replace(word,'')"
     ],
     "language": "python",
     "metadata": {},
     "outputs": [],
     "prompt_number": 21
    },
    {
     "cell_type": "code",
     "collapsed": false,
     "input": [
      "def filter_titles2(input_list, word):\n",
      "    word_list=input_list.split()\n",
      "    input_list=' '.join([i for i in word_list if i not in word])"
     ],
     "language": "python",
     "metadata": {},
     "outputs": [],
     "prompt_number": 22
    },
    {
     "cell_type": "heading",
     "level": 4,
     "metadata": {},
     "source": [
      "Uses the strip function to split up groups"
     ]
    },
    {
     "cell_type": "code",
     "collapsed": false,
     "input": [
      "first_group=[strip(x,1) for x in final_list]\n",
      "second_group=[strip(x,2) for x in final_list]\n",
      "third_group=[strip(x,3) for x in final_list]\n",
      "fourth_group=[strip(x,4) for x in final_list]\n",
      "fifth_group=[strip(x,5) for x in final_list]\n",
      "sixth_group=[strip(x,6) for x in final_list]\n",
      "seventh_group=[strip(x,7) for x in final_list]\n",
      "eighth_group=[strip(x,8) for x in final_list]\n",
      "ninth_group=[strip(x,9) for x in final_list]\n",
      "tenth_group=[strip(x,10) for x in final_list]\n",
      "eleventh_group=[strip(x,11) for x in final_list]"
     ],
     "language": "python",
     "metadata": {},
     "outputs": [],
     "prompt_number": 23
    },
    {
     "cell_type": "code",
     "collapsed": false,
     "input": [
      "first_title=[]\n",
      "second_title=[]\n",
      "third_title=[]\n",
      "fourth_title=[]\n",
      "fifth_title=[]\n",
      "sixth_title=[]\n",
      "seventh_title=[]\n",
      "eighth_title=[]\n",
      "ninth_title=[]\n",
      "tenth_title=[]\n",
      "eleventh_title=[]\n",
      "twelth_title=[]\n",
      "all_titles=[]\n",
      "all_titles_three=[]"
     ],
     "language": "python",
     "metadata": {},
     "outputs": [],
     "prompt_number": 24
    },
    {
     "cell_type": "heading",
     "level": 4,
     "metadata": {},
     "source": [
      "Creates a list of the first titles (since they all appear before the first ':')"
     ]
    },
    {
     "cell_type": "code",
     "collapsed": false,
     "input": [
      "for x in filter(None, final_list):\n",
      "    first_title.append(x.split(':')[0])"
     ],
     "language": "python",
     "metadata": {},
     "outputs": [],
     "prompt_number": 25
    },
    {
     "cell_type": "heading",
     "level": 4,
     "metadata": {},
     "source": [
      "Uses the title split function to seperate the different title possibilities"
     ]
    },
    {
     "cell_type": "code",
     "collapsed": false,
     "input": [
      "title_splits(first_group, second_title)\n",
      "title_splits(second_group, third_title)\n",
      "title_splits(third_group, fourth_title)\n",
      "title_splits(fourth_group, fifth_title)\n",
      "title_splits(fifth_group, sixth_title)\n",
      "title_splits(sixth_group, seventh_title)\n",
      "title_splits(seventh_group, eighth_title)\n",
      "title_splits(eighth_group, ninth_title)\n",
      "title_splits(ninth_group, tenth_title)\n",
      "title_splits(tenth_group, eleventh_title)\n",
      "title_splits(eleventh_group, twelth_title)"
     ],
     "language": "python",
     "metadata": {},
     "outputs": [],
     "prompt_number": 26
    },
    {
     "cell_type": "heading",
     "level": 4,
     "metadata": {},
     "source": [
      "This does a few things: a.) removes values between () b.)filters null titles c.)removes random commas in titles"
     ]
    },
    {
     "cell_type": "code",
     "collapsed": false,
     "input": [
      "title_combos=list(((re.sub(r'\\([^)]*\\)', '', x).strip()).split(',') for x in filter(None, all_titles)))"
     ],
     "language": "python",
     "metadata": {},
     "outputs": [],
     "prompt_number": 27
    },
    {
     "cell_type": "code",
     "collapsed": false,
     "input": [
      "trios=list(((re.sub(r'\\([^)]*\\)', '', x).strip()).split(',') for x in filter(None, all_titles_three)))"
     ],
     "language": "python",
     "metadata": {},
     "outputs": [],
     "prompt_number": 28
    },
    {
     "cell_type": "code",
     "collapsed": false,
     "input": [
      "new_triples=trios#[0:20000]\n",
      "new_doubles=title_combos#[0:20000]"
     ],
     "language": "python",
     "metadata": {},
     "outputs": [],
     "prompt_number": 29
    },
    {
     "cell_type": "heading",
     "level": 4,
     "metadata": {},
     "source": [
      "Some functions to clean up the data"
     ]
    },
    {
     "cell_type": "code",
     "collapsed": false,
     "input": [
      "def remove_blanks_From_list(input_list):\n",
      "    for x in input_list:\n",
      "        input_list[input_list.index(x)]=str(x).strip()"
     ],
     "language": "python",
     "metadata": {},
     "outputs": [],
     "prompt_number": 30
    },
    {
     "cell_type": "code",
     "collapsed": false,
     "input": [
      "def remove_stuff_From_list(input_list, stuff):\n",
      "    for x in input_list:\n",
      "        input_list[input_list.index(x)]=str(x).replace(stuff, \"\")"
     ],
     "language": "python",
     "metadata": {},
     "outputs": [],
     "prompt_number": 31
    },
    {
     "cell_type": "heading",
     "level": 4,
     "metadata": {},
     "source": [
      "Actually removing the things from the combo list"
     ]
    },
    {
     "cell_type": "code",
     "collapsed": false,
     "input": [
      "things=[\"'\", \"[\",\"]\",\",\",\")\",\"(\",'\"']"
     ],
     "language": "python",
     "metadata": {},
     "outputs": [],
     "prompt_number": 32
    },
    {
     "cell_type": "code",
     "collapsed": false,
     "input": [
      "[remove_stuff_From_list(new_triples, x) for x in things]\n",
      "[remove_stuff_From_list(new_doubles, x) for x in things]"
     ],
     "language": "python",
     "metadata": {},
     "outputs": [
      {
       "metadata": {},
       "output_type": "pyout",
       "prompt_number": 33,
       "text": [
        "[None, None, None, None, None, None, None]"
       ]
      }
     ],
     "prompt_number": 33
    },
    {
     "cell_type": "code",
     "collapsed": false,
     "input": [
      "[remove_stuff_From_list(trios, x) for x in things]\n",
      "remove_blanks_From_list(trios)"
     ],
     "language": "python",
     "metadata": {},
     "outputs": [],
     "prompt_number": 34
    },
    {
     "cell_type": "code",
     "collapsed": false,
     "input": [
      "remove_blanks_From_list(new_triples)\n",
      "remove_blanks_From_list(new_doubles)"
     ],
     "language": "python",
     "metadata": {},
     "outputs": [],
     "prompt_number": 35
    },
    {
     "cell_type": "heading",
     "level": 4,
     "metadata": {},
     "source": [
      "Remove the keywords from the \"master\" title list"
     ]
    },
    {
     "cell_type": "code",
     "collapsed": false,
     "input": [
      "def remove_words_From_list(input_list, stuff):\n",
      "    for x in input_list:\n",
      "        input_list[input_list.index(x)]=(re.sub(r'\\b%s\\b' % stuff, '', x)).strip()"
     ],
     "language": "python",
     "metadata": {},
     "outputs": [],
     "prompt_number": 36
    },
    {
     "cell_type": "heading",
     "level": 4,
     "metadata": {},
     "source": [
      "A full list of all banks"
     ]
    },
    {
     "cell_type": "code",
     "collapsed": false,
     "input": [
      "bank_list=[]\n",
      "bank_list=[x.rsplit(' ', 3)[0] for x in filter(None, first_group)]\n",
      "bank_list.append([x.rsplit(' ', 3)[0] for x in filter(None, second_group)])\n",
      "bank_list.append([x.rsplit(' ', 3)[0] for x in filter(None, third_group)])\n",
      "bank_list.append([x.rsplit(' ', 3)[0] for x in filter(None, fourth_group)])\n",
      "bank_list.append([x.rsplit(' ', 3)[0] for x in filter(None, fifth_group)])\n",
      "bank_list.append([x.rsplit(' ', 3)[0] for x in filter(None, sixth_group)])\n",
      "bank_list.append([x.rsplit(' ', 3)[0] for x in filter(None, seventh_group)])\n",
      "bank_list.append([x.rsplit(' ', 3)[0] for x in filter(None, eighth_group)])\n",
      "bank_list.append([x.rsplit(' ', 3)[0] for x in filter(None, ninth_group)])\n",
      "bank_list.append([x.rsplit(' ', 3)[0] for x in filter(None, tenth_group)])\n",
      "bank_list.append([x.rsplit(' ', 3)[0] for x in filter(None, eleventh_group)])"
     ],
     "language": "python",
     "metadata": {},
     "outputs": [],
     "prompt_number": 37
    },
    {
     "cell_type": "code",
     "collapsed": false,
     "input": [
      "bank_final_list=[]"
     ],
     "language": "python",
     "metadata": {},
     "outputs": [],
     "prompt_number": 38
    },
    {
     "cell_type": "code",
     "collapsed": false,
     "input": [
      "for x in bank_list:\n",
      "    bank_final_list.append((re.sub(r'\\([^)]*\\)', '', str(x))))"
     ],
     "language": "python",
     "metadata": {},
     "outputs": [],
     "prompt_number": 39
    },
    {
     "cell_type": "code",
     "collapsed": false,
     "input": [
      "[remove_stuff_From_list(bank_final_list, x) for x in things]"
     ],
     "language": "python",
     "metadata": {},
     "outputs": [
      {
       "metadata": {},
       "output_type": "pyout",
       "prompt_number": 40,
       "text": [
        "[None, None, None, None, None, None, None]"
       ]
      }
     ],
     "prompt_number": 40
    },
    {
     "cell_type": "code",
     "collapsed": false,
     "input": [
      "Banks=collect(x.rsplit(' ', 4)[0] for x in filter(None, bank_final_list))"
     ],
     "language": "python",
     "metadata": {},
     "outputs": [],
     "prompt_number": 41
    },
    {
     "cell_type": "code",
     "collapsed": false,
     "input": [
      "total=(sum(Banks.values()))/1000"
     ],
     "language": "python",
     "metadata": {},
     "outputs": [],
     "prompt_number": 42
    },
    {
     "cell_type": "heading",
     "level": 4,
     "metadata": {},
     "source": [
      "Removing Bank Names from the titles"
     ]
    },
    {
     "cell_type": "code",
     "collapsed": false,
     "input": [
      "new_exclusions=[]"
     ],
     "language": "python",
     "metadata": {},
     "outputs": [],
     "prompt_number": 43
    },
    {
     "cell_type": "code",
     "collapsed": false,
     "input": [
      "for x in Banks:\n",
      "    if Banks[x]>total:\n",
      "        new_exclusions.append(x)"
     ],
     "language": "python",
     "metadata": {},
     "outputs": [],
     "prompt_number": 44
    },
    {
     "cell_type": "code",
     "collapsed": false,
     "input": [
      "[remove_stuff_From_list(new_exclusions, x) for x in things]"
     ],
     "language": "python",
     "metadata": {},
     "outputs": [
      {
       "metadata": {},
       "output_type": "pyout",
       "prompt_number": 45,
       "text": [
        "[None, None, None, None, None, None, None]"
       ]
      }
     ],
     "prompt_number": 45
    },
    {
     "cell_type": "code",
     "collapsed": false,
     "input": [
      "remove_blanks_From_list(new_exclusions)"
     ],
     "language": "python",
     "metadata": {},
     "outputs": [],
     "prompt_number": 46
    },
    {
     "cell_type": "code",
     "collapsed": false,
     "input": [
      "title_total_dict=collect(trios)"
     ],
     "language": "python",
     "metadata": {},
     "outputs": [],
     "prompt_number": 47
    },
    {
     "cell_type": "code",
     "collapsed": false,
     "input": [
      "total_banks=(sum(Banks.values()))"
     ],
     "language": "python",
     "metadata": {},
     "outputs": [],
     "prompt_number": 48
    },
    {
     "cell_type": "code",
     "collapsed": false,
     "input": [
      "total_titles=(sum(title_total_dict.values()))"
     ],
     "language": "python",
     "metadata": {},
     "outputs": [],
     "prompt_number": 49
    },
    {
     "cell_type": "code",
     "collapsed": false,
     "input": [
      "exclusion_dict={}"
     ],
     "language": "python",
     "metadata": {},
     "outputs": [],
     "prompt_number": 50
    },
    {
     "cell_type": "code",
     "collapsed": false,
     "input": [
      "for x in new_exclusions:\n",
      "    title_possb=0.00000\n",
      "    banks_possb=0.00000\n",
      "    output=0.00000\n",
      "    title_possb=title_total_dict[x,]/total_titles\n",
      "    banks_possb=Banks[x,]/total_banks\n",
      "    if title_possb==0:\n",
      "        output=0\n",
      "    else:\n",
      "        output=title_possb/banks_possb\n",
      "    exclusion_dict[x]=output"
     ],
     "language": "python",
     "metadata": {},
     "outputs": [],
     "prompt_number": 51
    },
    {
     "cell_type": "code",
     "collapsed": false,
     "input": [
      "new_exclusions2=[]\n",
      "for x in new_exclusions:\n",
      "    if exclusion_dict[x]>.5:\n",
      "        new_exclusions2.append(x)"
     ],
     "language": "python",
     "metadata": {},
     "outputs": [],
     "prompt_number": 52
    },
    {
     "cell_type": "heading",
     "level": 4,
     "metadata": {},
     "source": [
      "Create a list of single word title possibilities"
     ]
    },
    {
     "cell_type": "code",
     "collapsed": false,
     "input": [
      "single_titles=[return_last_word(str(x).replace(\"'\", \"\").replace(']',\"\").replace('[',\"\")).split(',') for x in filter(None, new_triples)]"
     ],
     "language": "python",
     "metadata": {},
     "outputs": [],
     "prompt_number": 53
    },
    {
     "cell_type": "code",
     "collapsed": false,
     "input": [
      "#for x in new_doubles:\n",
      " #   if any(str(word) in str(x) for word in new_exclusions):\n",
      " #       new_doubles.remove(x)"
     ],
     "language": "python",
     "metadata": {},
     "outputs": [],
     "prompt_number": 54
    },
    {
     "cell_type": "code",
     "collapsed": false,
     "input": [
      "new_doubles2=[]\n",
      "for x in new_doubles:\n",
      "    if any(str(word) in str(x) for word in new_exclusions2):\n",
      "        None\n",
      "    else:\n",
      "        new_doubles2.append(x)"
     ],
     "language": "python",
     "metadata": {},
     "outputs": [],
     "prompt_number": 55
    },
    {
     "cell_type": "code",
     "collapsed": false,
     "input": [
      "new_triples2=[]\n",
      "for x in new_triples:\n",
      "    if any(str(word) in str(x) for word in new_exclusions2):\n",
      "        None\n",
      "    else:\n",
      "        new_triples2.append(x)"
     ],
     "language": "python",
     "metadata": {},
     "outputs": [],
     "prompt_number": 56
    },
    {
     "cell_type": "heading",
     "level": 4,
     "metadata": {},
     "source": [
      "Actually removing the things from the single list"
     ]
    },
    {
     "cell_type": "code",
     "collapsed": false,
     "input": [
      "[remove_stuff_From_list(single_titles, x) for x in things]"
     ],
     "language": "python",
     "metadata": {},
     "outputs": [
      {
       "metadata": {},
       "output_type": "pyout",
       "prompt_number": 57,
       "text": [
        "[None, None, None, None, None, None, None]"
       ]
      }
     ],
     "prompt_number": 57
    },
    {
     "cell_type": "code",
     "collapsed": false,
     "input": [
      "remove_blanks_From_list(single_titles)"
     ],
     "language": "python",
     "metadata": {},
     "outputs": [],
     "prompt_number": 58
    },
    {
     "cell_type": "code",
     "collapsed": false,
     "input": [
      "#single_titles=[return_last_word(x).split(',') for x in filter(None, title_combos)]"
     ],
     "language": "python",
     "metadata": {},
     "outputs": [],
     "prompt_number": 59
    },
    {
     "cell_type": "code",
     "collapsed": false,
     "input": [
      "final_singles=filter(None, single_titles)"
     ],
     "language": "python",
     "metadata": {},
     "outputs": [],
     "prompt_number": 60
    },
    {
     "cell_type": "code",
     "collapsed": false,
     "input": [
      "#doubles_that_show_up_in_single={(x,y):e for e in final_singles for (x,y) in doubles if e in (x+\" \"+y)}\n",
      "#triples_that_show_up_in_single={(x,y,z):e for e in final_singles for (x,y,z) in triples if e in (x+\" \"+y+\" \"+z)}\n",
      "#triples_that_show_up_in_double={(x,y,z):(a,b) for (a,b) in doubles for (x,y,z) in triples if a+\" \"+b in (x+\" \"+y+\" \"+z)}"
     ],
     "language": "python",
     "metadata": {},
     "outputs": [],
     "prompt_number": 61
    },
    {
     "cell_type": "code",
     "collapsed": false,
     "input": [
      "singles=collect(final_singles)"
     ],
     "language": "python",
     "metadata": {},
     "outputs": [],
     "prompt_number": 62
    },
    {
     "cell_type": "code",
     "collapsed": false,
     "input": [
      "doubles=collect_pairs(new_doubles)"
     ],
     "language": "python",
     "metadata": {},
     "outputs": [],
     "prompt_number": 63
    },
    {
     "cell_type": "code",
     "collapsed": false,
     "input": [
      "trips=collect_3pairs(new_triples)"
     ],
     "language": "python",
     "metadata": {},
     "outputs": [],
     "prompt_number": 64
    },
    {
     "cell_type": "code",
     "collapsed": false,
     "input": [
      "def remove_weird_stuff(x):\n",
      "    return str(x).replace(\"(\", \"\").replace(')',\"\").replace(',',\"\").replace(\"'\",\"\").strip()"
     ],
     "language": "python",
     "metadata": {},
     "outputs": [],
     "prompt_number": 65
    },
    {
     "cell_type": "code",
     "collapsed": false,
     "input": [
      "doubles_that_show_up_in_single={remove_weird_stuff(x):remove_weird_stuff(e) for e in singles for x in doubles if remove_weird_stuff(e) in remove_weird_stuff(x)}"
     ],
     "language": "python",
     "metadata": {},
     "outputs": [],
     "prompt_number": 66
    },
    {
     "cell_type": "code",
     "collapsed": false,
     "input": [
      "#doubles_that_show_up_in_single={x:e for e in final_singles for x in new_doubles if e in str(x)}\n",
      "#triples_that_show_up_in_single={(x):e for e in final_singles for (x) in new_triples2 if e in str(x)}\n",
      "#triples_that_show_up_in_double={(x):(a) for (a) in new_doubles2 for (x) in new_triples2 if a in str(x)}"
     ],
     "language": "python",
     "metadata": {},
     "outputs": [],
     "prompt_number": 67
    },
    {
     "cell_type": "heading",
     "level": 4,
     "metadata": {},
     "source": [
      "creating a dictionary for the most commonly occuring doubles"
     ]
    },
    {
     "cell_type": "code",
     "collapsed": false,
     "input": [
      "#triple_dict={}"
     ],
     "language": "python",
     "metadata": {},
     "outputs": [],
     "prompt_number": 68
    },
    {
     "cell_type": "code",
     "collapsed": false,
     "input": [
      "double_dict={}"
     ],
     "language": "python",
     "metadata": {},
     "outputs": [],
     "prompt_number": 69
    },
    {
     "cell_type": "heading",
     "level": 4,
     "metadata": {},
     "source": [
      "For each single title, we have to loop through every occurence of that single word in the \"double titles\" ex: \"Bank\" occurs in \"Lead Bank\" and \"Mandated Bank\"...we need to find which one of those occurs the most"
     ]
    },
    {
     "cell_type": "code",
     "collapsed": false,
     "input": [
      "single_dict={}\n",
      "for x in doubles_that_show_up_in_single:\n",
      "    single=0\n",
      "    double=0\n",
      "    single=singles[doubles_that_show_up_in_single[x],]\n",
      "    double=doubles[x,]\n",
      "    name=doubles_that_show_up_in_single[x]\n",
      "    #single_dict[x]=(single/)\n",
      "    #single_dict[x]=(double*1.00)/(single*1.00)\n",
      "    if name in single_dict.keys() :\n",
      "        if single_dict[name]<double:\n",
      "            single_dict[name]=double\n",
      "    else:\n",
      "        single_dict[name]=double"
     ],
     "language": "python",
     "metadata": {},
     "outputs": [],
     "prompt_number": 70
    },
    {
     "cell_type": "heading",
     "level": 4,
     "metadata": {},
     "source": [
      "If, for some reason, a single title doesn't show up in the doubles list, lets assign it 1 for simplicity"
     ]
    },
    {
     "cell_type": "code",
     "collapsed": false,
     "input": [
      "for x in singles:\n",
      "    y=remove_weird_stuff(x)\n",
      "    if y[0].isupper() and y not in single_dict.keys():\n",
      "        single_dict[y]=1"
     ],
     "language": "python",
     "metadata": {},
     "outputs": [],
     "prompt_number": 71
    },
    {
     "cell_type": "heading",
     "level": 4,
     "metadata": {},
     "source": [
      "Create a dictionary that shows how often a single title shows up vs. how often it shows up in the most common double title. Ex: \"Bookrunner\" might occur 500 times, and \"Bank Bookrunner\" (the most occuring double for \"Bookrunner\") might show up 50. That 50/500 ratio shows that \"Bank Bookrunner\" probably isn't a title, while \"Bookrunner\" probably is a single title. "
     ]
    },
    {
     "cell_type": "code",
     "collapsed": false,
     "input": [
      "single_final_dict={}\n",
      "for x in single_dict:\n",
      "    current=single_dict[x]*1.00\n",
      "    single_final_dict[x]=current/(singles[x,]*1.00)"
     ],
     "language": "python",
     "metadata": {},
     "outputs": [],
     "prompt_number": 72
    },
    {
     "cell_type": "heading",
     "level": 4,
     "metadata": {},
     "source": [
      "If the single title is uppercase, it probably is a single title. No big deal if it might be a double, we solve that later. After, we append these to the final title list"
     ]
    },
    {
     "cell_type": "code",
     "collapsed": false,
     "input": [
      "final_single_titles=[]\n",
      "for x in single_final_dict:\n",
      "    if x[0].isupper():\n",
      "        final_single_titles.append(x)"
     ],
     "language": "python",
     "metadata": {},
     "outputs": [],
     "prompt_number": 73
    },
    {
     "cell_type": "code",
     "collapsed": false,
     "input": [
      "final_all_titles=[]\n",
      "for x in final_single_titles:\n",
      "    final_all_titles.append(x)"
     ],
     "language": "python",
     "metadata": {},
     "outputs": [],
     "prompt_number": 74
    },
    {
     "cell_type": "heading",
     "level": 4,
     "metadata": {},
     "source": [
      "This function easily returns the last word in a title"
     ]
    },
    {
     "cell_type": "code",
     "collapsed": false,
     "input": [
      "def return_last_word_in_string(x):\n",
      "    x2=str(x)\n",
      "    length=len(x2.split())\n",
      "    if length==2:\n",
      "        y=x2.split()[1]\n",
      "    elif length==3:\n",
      "        y=x2.split()[2]\n",
      "    else:\n",
      "        y=x2.split()[0]\n",
      "    return remove_weird_stuff(y).strip()"
     ],
     "language": "python",
     "metadata": {},
     "outputs": [],
     "prompt_number": 75
    },
    {
     "cell_type": "heading",
     "level": 4,
     "metadata": {},
     "source": [
      "Creating a minimum # of occurences, to be used later. In other words, it has to occur >.1%"
     ]
    },
    {
     "cell_type": "code",
     "collapsed": false,
     "input": [
      "total_doubles=(sum(singles.values()))/1000"
     ],
     "language": "python",
     "metadata": {},
     "outputs": [],
     "prompt_number": 76
    },
    {
     "cell_type": "heading",
     "level": 4,
     "metadata": {},
     "source": [
      "For the double title possiblities, we want to find the same occurence ratio from before (how often does the combination occur, vs. how common does the final word occur)"
     ]
    },
    {
     "cell_type": "code",
     "collapsed": false,
     "input": [
      "double_dict2={}\n",
      "for x in doubles:\n",
      "    y=str(x).replace(\"(\", \"\").replace(')',\"\").replace(',',\"\").replace(\"'\",\"\")\n",
      "    y2=return_last_word_in_string(x)\n",
      "    single=0\n",
      "    double=0\n",
      "    single=singles[y2,]\n",
      "    #single=math.sqrt(single)*2\n",
      "    double=doubles[y,]\n",
      "    double_dict2[y]=double/single"
     ],
     "language": "python",
     "metadata": {},
     "outputs": [],
     "prompt_number": 77
    },
    {
     "cell_type": "heading",
     "level": 4,
     "metadata": {},
     "source": [
      "Using that ratio, we add the doubles to the final title list if a.) the second word is lowercase or b.) the ratio is above .2 and it meets the minimum occurence threshold"
     ]
    },
    {
     "cell_type": "code",
     "collapsed": false,
     "input": [
      "double_starts=[]\n",
      "final_double_titles=[]\n",
      "for x in double_dict2:\n",
      "    new=x.split()[0]\n",
      "    y=return_last_word_in_string(x)\n",
      "    y2=x.split(' ', 1)[0]\n",
      "    if y[0].islower() or (double_dict2[x]>.2 and singles[y,]>total_doubles):\n",
      "        double_starts.append(y2)\n",
      "        final_all_titles.append(x)\n",
      "        final_double_titles.append(x)"
     ],
     "language": "python",
     "metadata": {},
     "outputs": [],
     "prompt_number": 78
    },
    {
     "cell_type": "heading",
     "level": 4,
     "metadata": {},
     "source": [
      "Adding more title possibilities here. First, clean up the titles. Next, pull the first word (y2). Next, pull the last word (y3). Add the title if: a.) the first word is in the double_starts list, which is comprised of the common title beginnings of double titles (ex: \"Lead\" tends to have some unique ending words). and b.)the second word is lowercase"
     ]
    },
    {
     "cell_type": "code",
     "collapsed": false,
     "input": [
      "for x in doubles:\n",
      "    y=str(x).replace(\"(\", \"\").replace(')',\"\").replace(',',\"\").replace(\"'\",\"\")\n",
      "    y2=y.split(' ', 1)[0]\n",
      "    y3=return_last_word_in_string(x)\n",
      "    if y2 in [remove_weird_stuff(x) for x in double_starts] and y3[0].islower():\n",
      "        final_all_titles.append(y)\n",
      "        final_double_titles.append(y)"
     ],
     "language": "python",
     "metadata": {},
     "outputs": [],
     "prompt_number": 79
    },
    {
     "cell_type": "heading",
     "level": 4,
     "metadata": {},
     "source": [
      "Function that returns the second word in a string (first word if it is one word long)"
     ]
    },
    {
     "cell_type": "code",
     "collapsed": false,
     "input": [
      "def return_next_word(x):\n",
      "    length=len(str(x).split())\n",
      "    if length==1:\n",
      "        y=remove_weird_stuff(x)\n",
      "    else:\n",
      "        y=remove_weird_stuff(str(x).split(' ',1)[1])\n",
      "    return y.strip()"
     ],
     "language": "python",
     "metadata": {},
     "outputs": [],
     "prompt_number": 80
    },
    {
     "cell_type": "heading",
     "level": 4,
     "metadata": {},
     "source": [
      "Creating the same occurence ratio for triple word titles. ex: \"Mandated Lead arranger\" vs. \"Lead arranger\""
     ]
    },
    {
     "cell_type": "code",
     "collapsed": false,
     "input": [
      "triple_dict={}\n",
      "for x in trips:\n",
      "    double=0\n",
      "    triple=0\n",
      "    lookup=remove_weird_stuff(x)\n",
      "    name=return_next_word(x)\n",
      "    double=doubles[name,]*1.00\n",
      "    if double==0:\n",
      "        double=singles[name,]*1.00\n",
      "    if double==0:\n",
      "        double=1\n",
      "    triple=trips[x]*1.00\n",
      "    triple_dict[lookup]=triple/double"
     ],
     "language": "python",
     "metadata": {},
     "outputs": [],
     "prompt_number": 81
    },
    {
     "cell_type": "heading",
     "level": 4,
     "metadata": {},
     "source": [
      "establishing the same occurence threshold"
     ]
    },
    {
     "cell_type": "code",
     "collapsed": false,
     "input": [
      "total_trips=(sum(trips.values()))/1000"
     ],
     "language": "python",
     "metadata": {},
     "outputs": [],
     "prompt_number": 82
    },
    {
     "cell_type": "heading",
     "level": 4,
     "metadata": {},
     "source": [
      "What this does: pulls the second word (y), then pulls the last word (y2).\n",
      "Adds to title list if:\n",
      "    a.)the ratio is >.75 and the second word is lowercase and it meets the threshold\n",
      "or  b.) the ratio is >.95 and it meets the threshold\n",
      "-If it meets either of these, check if any of the words are in the exclusion list (ex: \"Goldman\", \"Morgan\")\n",
      "-If it doesn't include an exclusion word, add it if the triple:single ratio is >.02"
     ]
    },
    {
     "cell_type": "code",
     "collapsed": false,
     "input": [
      "final_triple_titles=[]\n",
      "for x in triple_dict:\n",
      "    y=return_next_word(x)\n",
      "    y2=return_last_word_in_string(x)\n",
      "    final_straw=trips[x,]/singles[y2,]\n",
      "    if (triple_dict[x]>.75 and y[0].islower() and trips[x,]>(total_trips/10)) or (triple_dict[x]>.95 and trips[x,]>total_trips):\n",
      "        if any(str(word) in str(x) for word in new_exclusions2):\n",
      "            None\n",
      "        elif final_straw>.02:\n",
      "            final_all_titles.append(x)\n",
      "            final_triple_titles.append(x)"
     ],
     "language": "python",
     "metadata": {},
     "outputs": [],
     "prompt_number": 83
    },
    {
     "cell_type": "heading",
     "level": 4,
     "metadata": {},
     "source": [
      "remove weird stuff from the titles"
     ]
    },
    {
     "cell_type": "code",
     "collapsed": false,
     "input": [
      "[remove_stuff_From_list(final_all_titles, x) for x in things]\n",
      "remove_blanks_From_list(final_all_titles)"
     ],
     "language": "python",
     "metadata": {},
     "outputs": [],
     "prompt_number": 84
    },
    {
     "cell_type": "heading",
     "level": 4,
     "metadata": {},
     "source": [
      "Remove \"Lead Role\" from each list, since it occurs in every one. Remove all title possibilities (in order from triple, double, single). And replace : with ,"
     ]
    },
    {
     "cell_type": "code",
     "collapsed": false,
     "input": [
      "final_bank_list2=[]\n",
      "for x in final_list:\n",
      "    x2=str(x).replace('Lead Role: ', '')\n",
      "    for y in final_triple_titles:\n",
      "        x2=x2.replace(y, '')\n",
      "    for y2 in final_double_titles:\n",
      "        x2=x2.replace(y2, '')\n",
      "    for y3 in final_single_titles:\n",
      "        x2=x2.replace(y3, '')\n",
      "    x2=str(x2).replace(': ', ',')\n",
      "    final_bank_list2.append(x2)"
     ],
     "language": "python",
     "metadata": {},
     "outputs": [],
     "prompt_number": 85
    },
    {
     "cell_type": "code",
     "collapsed": false,
     "input": [
      "final_bank_list_final=[]\n",
      "for x in final_bank_list2:\n",
      "    y=x.split(\",\")\n",
      "    for x2 in y:\n",
      "        final_bank_list_final.append(x2.strip())"
     ],
     "language": "python",
     "metadata": {},
     "outputs": [],
     "prompt_number": 86
    },
    {
     "cell_type": "heading",
     "level": 4,
     "metadata": {},
     "source": [
      "remove all values between (), which are usually %'s"
     ]
    },
    {
     "cell_type": "code",
     "collapsed": false,
     "input": [
      "final_bank_list_final2=[re.sub(r'\\([^)]*\\)', '', item) for sublist in final_bank_list_final for item in sublist]"
     ],
     "language": "python",
     "metadata": {},
     "outputs": [],
     "prompt_number": 87
    },
    {
     "cell_type": "code",
     "collapsed": false,
     "input": [
      "final_bank_list_final2=[]"
     ],
     "language": "python",
     "metadata": {},
     "outputs": [],
     "prompt_number": 88
    },
    {
     "cell_type": "heading",
     "level": 4,
     "metadata": {},
     "source": [
      "use this function to remove all values between []"
     ]
    },
    {
     "cell_type": "code",
     "collapsed": false,
     "input": [
      "def clean(x, regx = re.compile('( |(?<! ))+((?<!])\\[[^[\\]]*\\])( *)')):\n",
      "    while regx.search(x):\n",
      "        #print '------------\\n',x,'\\n','\\n'.join(map(str,regx.findall(x)))\n",
      "        x = regx.sub('\\\\1',x)\n",
      "    return x"
     ],
     "language": "python",
     "metadata": {},
     "outputs": [],
     "prompt_number": 89
    },
    {
     "cell_type": "code",
     "collapsed": false,
     "input": [
      "final_bank_list_final2=[]\n",
      "for x in final_bank_list_final:\n",
      "    t=re.sub(r'\\([^)]*\\)', '', x) \n",
      "    t2=clean(t)\n",
      "    q=remove_weird_stuff(t2)\n",
      "    final_bank_list_final2.append(q)"
     ],
     "language": "python",
     "metadata": {},
     "outputs": [],
     "prompt_number": 90
    },
    {
     "cell_type": "code",
     "collapsed": false,
     "input": [
      "Names=[]\n",
      "for x in my_list:\n",
      "    x_list={}\n",
      "    x_list['Lead Role']=1\n",
      "    x2=str(x).replace('Lead Role: ', '')\n",
      "    for y in final_triple_titles:\n",
      "        if y in x2:\n",
      "            x_list[y]=x.index(y)\n",
      "        x2=x2.replace(y, '')\n",
      "    for y2 in final_double_titles:\n",
      "        if y2 in x2:\n",
      "            x_list[y2]=x.index(y2)\n",
      "        x2=x2.replace(y2, '')\n",
      "    for y3 in final_single_titles:\n",
      "        if y3 in x2:\n",
      "            x_list[y3]=x.index(y3)\n",
      "        x2=x2.replace(y3, '')\n",
      "    sorted_x = sorted(x_list.items(), key=operator.itemgetter(1))\n",
      "    final=[x for x,y in sorted_x]\n",
      "    Names.append(final)"
     ],
     "language": "python",
     "metadata": {},
     "outputs": [],
     "prompt_number": 91
    },
    {
     "cell_type": "code",
     "collapsed": false,
     "input": [
      "header_length_names=0\n",
      "for x in Names:\n",
      "  if len(x)>header_length_names:\n",
      "        header_length_names=len(x)"
     ],
     "language": "python",
     "metadata": {},
     "outputs": [],
     "prompt_number": 92
    },
    {
     "cell_type": "code",
     "collapsed": false,
     "input": [
      "headers=[]\n",
      "for i in range(header_length_names):\n",
      "    headers.append('Bank%s' %i)"
     ],
     "language": "python",
     "metadata": {},
     "outputs": [],
     "prompt_number": 93
    },
    {
     "cell_type": "code",
     "collapsed": false,
     "input": [
      "df2=pd.DataFrame(Names, columns=headers)"
     ],
     "language": "python",
     "metadata": {},
     "outputs": [],
     "prompt_number": 94
    },
    {
     "cell_type": "code",
     "collapsed": false,
     "input": [
      "excel_banks=[]\n",
      "for x in [str(x)for x in my_list ]:\n",
      "    x2=str(x).replace('Lead Role: ', '')\n",
      "    for y in final_triple_titles:\n",
      "        x2=x2.replace(y, '')\n",
      "    for y2 in final_double_titles:\n",
      "        x2=x2.replace(y2, '')\n",
      "    for y3 in final_single_titles:\n",
      "        x2=x2.replace(y3, '')\n",
      "    x2=str(x2).replace(': ', '|')\n",
      "    excel_banks.append(x2)"
     ],
     "language": "python",
     "metadata": {},
     "outputs": [],
     "prompt_number": 95
    },
    {
     "cell_type": "code",
     "collapsed": false,
     "input": [
      "excel_banks2=[]\n",
      "for x in excel_banks:\n",
      "    output_list=[]\n",
      "    y=x.split(\"|\")\n",
      "    small_list=[]\n",
      "    for x2 in y:\n",
      "        x3=x2.strip()\n",
      "        x4=(x3.split(\",\"))\n",
      "        tiny_list=[]\n",
      "        for x5 in x4:\n",
      "            x6=x5.strip()\n",
      "            tiny_list.append(x6)\n",
      "        small_list.append(tiny_list)\n",
      "    excel_banks2.append(small_list)"
     ],
     "language": "python",
     "metadata": {},
     "outputs": [],
     "prompt_number": 96
    },
    {
     "cell_type": "code",
     "collapsed": false,
     "input": [
      "header_length_banks=0\n",
      "for x in excel_banks2:\n",
      "    for y in x:\n",
      "        if len(y)>header_length_banks:\n",
      "            header_length_banks=len(y)"
     ],
     "language": "python",
     "metadata": {},
     "outputs": [],
     "prompt_number": 97
    },
    {
     "cell_type": "code",
     "collapsed": false,
     "input": [
      "headers2=[]\n",
      "for i in range(header_length_banks):\n",
      "    headers2.append('Bank%s' %i)"
     ],
     "language": "python",
     "metadata": {},
     "outputs": [],
     "prompt_number": 98
    },
    {
     "cell_type": "code",
     "collapsed": false,
     "input": [
      "Total_Groups=0\n",
      "for x in excel_banks2:\n",
      "    if len(x)>Total_Groups:\n",
      "        Total_Groups=len(x)"
     ],
     "language": "python",
     "metadata": {},
     "outputs": [],
     "prompt_number": 99
    },
    {
     "cell_type": "code",
     "collapsed": false,
     "input": [
      "for x in excel_banks2:\n",
      "    append=Total_Groups-len(x)\n",
      "    for i in range(append):\n",
      "        x.append(['N/A'])"
     ],
     "language": "python",
     "metadata": {},
     "outputs": [],
     "prompt_number": 100
    },
    {
     "cell_type": "code",
     "collapsed": false,
     "input": [
      "def bank_create(x,i):\n",
      "    if len(x)>i:\n",
      "        return x[i]\n",
      "    else:\n",
      "        return ''"
     ],
     "language": "python",
     "metadata": {},
     "outputs": [],
     "prompt_number": 101
    },
    {
     "cell_type": "code",
     "collapsed": false,
     "input": [
      "for i in range(Total_Groups):\n",
      "    exec \"excel_bank_group%d=[]\" % (i)"
     ],
     "language": "python",
     "metadata": {},
     "outputs": [],
     "prompt_number": 102
    },
    {
     "cell_type": "code",
     "collapsed": false,
     "input": [
      "for x in excel_banks2:\n",
      "    for i in range(Total_Groups):\n",
      "        exec \"excel_bank_group%d.append(bank_create(x,i))\" % (i)"
     ],
     "language": "python",
     "metadata": {},
     "outputs": [],
     "prompt_number": 103
    },
    {
     "cell_type": "code",
     "collapsed": false,
     "input": [
      "def bank_headers(my_list):\n",
      "    header_length_2=0\n",
      "    header_list=[]\n",
      "    for x in my_list:\n",
      "        if len(x)>header_length_2:\n",
      "            header_length_2=len(x)\n",
      "    for i in range(header_length_2):\n",
      "        header_list.append('Banks%s' %i)\n",
      "    return header_list"
     ],
     "language": "python",
     "metadata": {},
     "outputs": [],
     "prompt_number": 104
    },
    {
     "cell_type": "code",
     "collapsed": false,
     "input": [
      "for i in range(Total_Groups):\n",
      "    exec \"df_banks%d=pd.DataFrame([list(x) for x in excel_bank_group%d], columns=bank_headers(excel_bank_group%d))\" % (i,i,i)"
     ],
     "language": "python",
     "metadata": {},
     "outputs": [],
     "prompt_number": 105
    },
    {
     "cell_type": "code",
     "collapsed": false,
     "input": [
      "for i in range(Total_Groups):\n",
      "    exec \"df_banks%d['deal_id'] = df_banks%d.index\" % (i,i)"
     ],
     "language": "python",
     "metadata": {},
     "outputs": [],
     "prompt_number": 106
    },
    {
     "cell_type": "code",
     "collapsed": false,
     "input": [
      "for i in range(Total_Groups):\n",
      "    exec \"df_banks%d['group'] = %d\" % (i,i)"
     ],
     "language": "python",
     "metadata": {},
     "outputs": [],
     "prompt_number": 107
    },
    {
     "cell_type": "code",
     "collapsed": false,
     "input": [
      "def append_all_columns(current):\n",
      "    final_df=current[['Banks0','deal_id', 'group']]\n",
      "    length=len(list(current.columns.values))-3\n",
      "    for i in range(1,length+1):\n",
      "        to_append=current[['Banks%d' %i,'deal_id', 'group']]\n",
      "        to_append.columns = ['Banks0','deal_id', 'group']\n",
      "        final_df=final_df.append(to_append , ignore_index=True, verify_integrity=True)\n",
      "    final_df=final_df.dropna(subset=['Banks0'], how='all')\n",
      "    return final_df"
     ],
     "language": "python",
     "metadata": {},
     "outputs": [],
     "prompt_number": 108
    },
    {
     "cell_type": "code",
     "collapsed": false,
     "input": [
      "final_bank_df=append_all_columns(df_banks0)\n",
      "for i in range(1,Total_Groups):\n",
      "    exec \"final_bank_df=final_bank_df.append(append_all_columns(df_banks%d) , ignore_index=True, verify_integrity=True)\" % (i)\n",
      "#final_bank_df= final_bank_df[final_bank_df.Banks0 != 'N/A']"
     ],
     "language": "python",
     "metadata": {},
     "outputs": [],
     "prompt_number": 213
    },
    {
     "cell_type": "code",
     "collapsed": false,
     "input": [
      "total_bank_list=final_bank_df[\"Banks0\"].tolist()"
     ],
     "language": "python",
     "metadata": {},
     "outputs": [],
     "prompt_number": 110
    },
    {
     "cell_type": "code",
     "collapsed": false,
     "input": [
      "def find_percentage(name):\n",
      "    if 'nan' in str(name):\n",
      "        return 0\n",
      "    else:\n",
      "        position=0\n",
      "        update=list(name)\n",
      "        final=0\n",
      "        index=0\n",
      "        for x in update:\n",
      "            index=index+1\n",
      "            if x=='(' and update[index].isdigit():\n",
      "                position=index\n",
      "        if position>0:\n",
      "            new=\"\".join(update[position:])\n",
      "            new=new.split(')')[0]\n",
      "            new=new.replace('(','').replace('%','').strip()\n",
      "            new=float(new)\n",
      "            final=new\n",
      "        return float(final)"
     ],
     "language": "python",
     "metadata": {},
     "outputs": [],
     "prompt_number": 111
    },
    {
     "cell_type": "code",
     "collapsed": false,
     "input": [
      "percentages=[]\n",
      "for x in total_bank_list:\n",
      "    percentages.append(find_percentage(x))"
     ],
     "language": "python",
     "metadata": {},
     "outputs": [],
     "prompt_number": 112
    },
    {
     "cell_type": "code",
     "collapsed": false,
     "input": [
      "df_percentages=pd.DataFrame(percentages, columns=['percentages'])"
     ],
     "language": "python",
     "metadata": {},
     "outputs": [],
     "prompt_number": 113
    },
    {
     "cell_type": "code",
     "collapsed": false,
     "input": [
      "final_bank_df=final_bank_df.reset_index(drop=True)"
     ],
     "language": "python",
     "metadata": {},
     "outputs": [],
     "prompt_number": 214
    },
    {
     "cell_type": "code",
     "collapsed": false,
     "input": [
      "final_bank_df=final_bank_df.join(df_percentages)"
     ],
     "language": "python",
     "metadata": {},
     "outputs": [],
     "prompt_number": 215
    },
    {
     "cell_type": "code",
     "collapsed": false,
     "input": [
      "names = pd.ExcelFile(\"/home/xgl470/bank_names2.xlsx\")"
     ],
     "language": "python",
     "metadata": {},
     "outputs": [],
     "prompt_number": 116
    },
    {
     "cell_type": "code",
     "collapsed": false,
     "input": [
      "names.sheet_names\n",
      "[u'Sheet1', u'Sheet2', u'Sheet3']"
     ],
     "language": "python",
     "metadata": {},
     "outputs": [
      {
       "metadata": {},
       "output_type": "pyout",
       "prompt_number": 117,
       "text": [
        "[u'Sheet1', u'Sheet2', u'Sheet3']"
       ]
      }
     ],
     "prompt_number": 117
    },
    {
     "cell_type": "code",
     "collapsed": false,
     "input": [
      "names_df = names.parse(\"Sheet1\")"
     ],
     "language": "python",
     "metadata": {},
     "outputs": [],
     "prompt_number": 118
    },
    {
     "cell_type": "code",
     "collapsed": false,
     "input": [
      "names_dict=names_df.set_index('banks0')['bank_formatted'].to_dict()"
     ],
     "language": "python",
     "metadata": {},
     "outputs": [],
     "prompt_number": 119
    },
    {
     "cell_type": "code",
     "collapsed": false,
     "input": [
      "names_dict2={}"
     ],
     "language": "python",
     "metadata": {},
     "outputs": [],
     "prompt_number": 144
    },
    {
     "cell_type": "code",
     "collapsed": false,
     "input": [
      "for x in names_dict:\n",
      "    if isinstance(x, float):\n",
      "        names_dict2[x]=str(names_dict[x]).strip()\n",
      "    else:\n",
      "        names_dict2[x.lower()]=names_dict[x].encode('utf-8').strip()"
     ],
     "language": "python",
     "metadata": {},
     "outputs": [],
     "prompt_number": 145
    },
    {
     "cell_type": "code",
     "collapsed": false,
     "input": [
      "def remove_weird_stuff(x):\n",
      "    return str(x).replace(\"(\", \"\").replace(')',\"\").replace(',',\"\").replace(\"'\",\"\").strip()"
     ],
     "language": "python",
     "metadata": {},
     "outputs": [],
     "prompt_number": 122
    },
    {
     "cell_type": "code",
     "collapsed": false,
     "input": [
      "def remove_internet_words(name, words):\n",
      "    new_word=name\n",
      "    for x in words:\n",
      "        if x in new_word:\n",
      "            new_word=new_word.replace(x,'').strip()\n",
      "    return new_word.strip()"
     ],
     "language": "python",
     "metadata": {},
     "outputs": [],
     "prompt_number": 123
    },
    {
     "cell_type": "code",
     "collapsed": false,
     "input": [
      "internet_words=[ 'Welcome to', 'welcome to','website', 'site' 'welcome','Personal','home', 'webpage','Website','Page', 'Site' ,'Welcome', 'Webpage', 'Official', 'Home', 'Homepage']"
     ],
     "language": "python",
     "metadata": {},
     "outputs": [],
     "prompt_number": 124
    },
    {
     "cell_type": "code",
     "collapsed": false,
     "input": [
      "def url(query):\n",
      "    query = urllib.quote(query)\n",
      "    return'https://api.datamarket.azure.com/Bing/Search/v1/Web?Query=%27'+query+'%27'"
     ],
     "language": "python",
     "metadata": {},
     "outputs": [],
     "prompt_number": 125
    },
    {
     "cell_type": "code",
     "collapsed": false,
     "input": [
      "def return_bing_search(bank_name):\n",
      "    auth = 'Basic %s' % (':%s' % 'j9li7rs9FIS1W2KhVRBVvcD5gJCXiAIG68OIUHhqicw').encode('base64')[:-1] \n",
      "    request=urllib2.Request(url(bank_name))\n",
      "    request_opener = urllib2.build_opener()\n",
      "    request.add_header('Authorization', auth)\n",
      "    response = request_opener.open(request)\n",
      "    response_data = response.read()\n",
      "    my_list=response_data.split(\"<\")\n",
      "    search_titles=[]\n",
      "    for x in my_list:\n",
      "        if 'd:Title m' in x:\n",
      "            y=x.split(\">\")\n",
      "            search_titles.append(y[1])\n",
      "    if len(search_titles)==0:\n",
      "        search_titles.append(bank_name)\n",
      "    search_titles2=[]\n",
      "    for x in search_titles:\n",
      "        x=x.replace('...','')\n",
      "    new_title=search_titles[0]\n",
      "    positions=[]\n",
      "    for x in new_title:\n",
      "        if x=='.':\n",
      "            positions.append(new_title.index(x))\n",
      "    fix=list(new_title)\n",
      "    for x in positions:\n",
      "        try:\n",
      "            if new_title[x+2].isupper():\n",
      "                fix[x]=':'\n",
      "                new_title=\"\".join(fix)\n",
      "        except:\n",
      "            None\n",
      "    unicode_content = new_title.decode('utf-8')\n",
      "    new_title2=unicode(unicode_content)\n",
      "    remove_pipe=new_title2.replace('|',',')\n",
      "    possibles=re.split(r'[,;:-]+', remove_pipe)\n",
      "    wiki=[]\n",
      "    for x in search_titles:\n",
      "        if 'Wikipedia, the free encyclopedia' in x:\n",
      "            y=x.replace(' - Wikipedia, the free encyclopedia','')\n",
      "            y = y.decode('utf-8')\n",
      "            y=unicode(y)\n",
      "            possibles.append(y)\n",
      "            wiki.append(y)\n",
      "    linkedin=[]\n",
      "    for x in search_titles:\n",
      "        if 'LinkedIn' in x and 'profiles' not in x:\n",
      "            y=x.replace(' | LinkedIn','')\n",
      "            y = y.decode('utf-8')\n",
      "            y=unicode(y)\n",
      "            possibles.append(y)\n",
      "            linkedin.append(y)\n",
      "    compare={}\n",
      "    for x in possibles:\n",
      "        y=remove_internet_words(x, internet_words)\n",
      "        comparison=jf.jaro_distance(y, bank_name)\n",
      "        if x in wiki:\n",
      "            comparison=comparison*1.15\n",
      "        if x in linkedin:\n",
      "            comparison=comparison*1.15\n",
      "        compare[y]=(comparison)\n",
      "    return max(compare, key=compare.get)"
     ],
     "language": "python",
     "metadata": {},
     "outputs": [],
     "prompt_number": 126
    },
    {
     "cell_type": "code",
     "collapsed": false,
     "input": [
      "bank_name_edits=[]\n",
      "new_bing_results={}\n",
      "for x in total_bank_list:\n",
      "    x2=re.sub(r'\\([^)]*\\)', '', x).strip()\n",
      "    x3=clean(x2)\n",
      "    x4=remove_weird_stuff(x3).lower()\n",
      "    if x4=='nan' or x4=='' or x4=='n/a':\n",
      "        x5=x4\n",
      "    elif x4 in names_dict2:\n",
      "        x5=names_dict2[x4]\n",
      "    else:\n",
      "        x5=return_bing_search(x4)\n",
      "        names_dict2[x4]=x5\n",
      "    bank_name_edits.append(x5)"
     ],
     "language": "python",
     "metadata": {},
     "outputs": [],
     "prompt_number": 216
    },
    {
     "cell_type": "code",
     "collapsed": false,
     "input": [
      "final_bank_df=final_bank_df.join(pd.DataFrame(bank_name_edits, columns=['bank_formatted']))"
     ],
     "language": "python",
     "metadata": {},
     "outputs": [],
     "prompt_number": 217
    },
    {
     "cell_type": "code",
     "collapsed": false,
     "input": [
      "names_dict3={}\n",
      "for x in names_dict2:\n",
      "    names_dict3[x]=names_dict2[x].decode('utf-8')"
     ],
     "language": "python",
     "metadata": {},
     "outputs": [],
     "prompt_number": 236
    },
    {
     "cell_type": "code",
     "collapsed": false,
     "input": [
      "new_name_df=pd.DataFrame(names_dict3.items() ,columns=['banks0', 'bank_formatted'])"
     ],
     "language": "python",
     "metadata": {},
     "outputs": [],
     "prompt_number": 240
    },
    {
     "cell_type": "code",
     "collapsed": false,
     "input": [
      "final_table = pd.ExcelWriter(\"/home/xgl470/final_table.xlsx\")\n",
      "final_bank_df.to_excel(final_table,'Sheet1')\n",
      "final_table.save()"
     ],
     "language": "python",
     "metadata": {},
     "outputs": [],
     "prompt_number": 201
    },
    {
     "cell_type": "code",
     "collapsed": false,
     "input": [
      "df2['deal_id'] = df2.index\n",
      "df_categories=df2[['deal_id', 'Bank0']]\n",
      "df_categories['group']=0"
     ],
     "language": "python",
     "metadata": {},
     "outputs": [],
     "prompt_number": 202
    },
    {
     "cell_type": "code",
     "collapsed": false,
     "input": [
      "for i in range(Total_Groups-1):\n",
      "    exec \"df_categories%d=df2[['deal_id', 'Bank%d']]\"% (i+1,i+1)\n",
      "    exec \"df_categories%d['group']=%d\"% (i+1,i+1)\n",
      "    exec \"df_categories%d.rename(columns={'Bank%d':'Bank0'}, inplace=True)\"% (i+1,i+1)\n",
      "    exec \"df_categories=df_categories.append(df_categories%d , ignore_index=True)\"% (i+1)"
     ],
     "language": "python",
     "metadata": {},
     "outputs": [],
     "prompt_number": 203
    },
    {
     "cell_type": "code",
     "collapsed": false,
     "input": [
      "final_names = pd.ExcelWriter(\"/home/xgl470/bank_names2.xlsx\")"
     ],
     "language": "python",
     "metadata": {},
     "outputs": [],
     "prompt_number": 241
    },
    {
     "cell_type": "code",
     "collapsed": false,
     "input": [
      "new_name_df.to_excel(final_names,'Sheet1')"
     ],
     "language": "python",
     "metadata": {},
     "outputs": [],
     "prompt_number": 242
    },
    {
     "cell_type": "code",
     "collapsed": false,
     "input": [
      "final_names.save()"
     ],
     "language": "python",
     "metadata": {},
     "outputs": [],
     "prompt_number": 243
    },
    {
     "cell_type": "code",
     "collapsed": false,
     "input": [
      "group_lookup = pd.ExcelWriter(\"/home/xgl470/group_lookup.xlsx\")"
     ],
     "language": "python",
     "metadata": {},
     "outputs": [],
     "prompt_number": 244
    },
    {
     "cell_type": "code",
     "collapsed": false,
     "input": [
      "df_categories.to_excel(group_lookup,'Sheet1')"
     ],
     "language": "python",
     "metadata": {},
     "outputs": [],
     "prompt_number": 245
    },
    {
     "cell_type": "code",
     "collapsed": false,
     "input": [
      "group_lookup.save()"
     ],
     "language": "python",
     "metadata": {},
     "outputs": [],
     "prompt_number": 246
    },
    {
     "cell_type": "code",
     "collapsed": false,
     "input": [
      "df['deal_id'] = df.index"
     ],
     "language": "python",
     "metadata": {},
     "outputs": [],
     "prompt_number": 22
    },
    {
     "cell_type": "code",
     "collapsed": false,
     "input": [
      "big_table = pd.ExcelWriter(\"/home/xgl470/big_table.xlsx\")"
     ],
     "language": "python",
     "metadata": {},
     "outputs": [
      {
       "output_type": "stream",
       "stream": "stderr",
       "text": [
        "Exception AttributeError: \"'Workbook' object has no attribute 'fileclosed'\" in <bound method Workbook.__del__ of <xlsxwriter.workbook.Workbook object at 0x7f66553a56d0>> ignored\n"
       ]
      },
      {
       "ename": "TypeError",
       "evalue": "__init__() got an unexpected keyword argument 'header'",
       "output_type": "pyerr",
       "traceback": [
        "\u001b[1;31m---------------------------------------------------------------------------\u001b[0m\n\u001b[1;31mTypeError\u001b[0m                                 Traceback (most recent call last)",
        "\u001b[1;32m<ipython-input-23-ab1c992a3a25>\u001b[0m in \u001b[0;36m<module>\u001b[1;34m()\u001b[0m\n\u001b[1;32m----> 1\u001b[1;33m \u001b[0mbig_table\u001b[0m \u001b[1;33m=\u001b[0m \u001b[0mpd\u001b[0m\u001b[1;33m.\u001b[0m\u001b[0mExcelWriter\u001b[0m\u001b[1;33m(\u001b[0m\u001b[1;34m\"/home/xgl470/big_table.xlsx\"\u001b[0m\u001b[1;33m,\u001b[0m \u001b[0mheader\u001b[0m\u001b[1;33m=\u001b[0m\u001b[0mFalse\u001b[0m\u001b[1;33m)\u001b[0m\u001b[1;33m\u001b[0m\u001b[0m\n\u001b[0m",
        "\u001b[1;32m/opt/anaconda/anaconda21/lib/python2.7/site-packages/pandas/io/excel.pyc\u001b[0m in \u001b[0;36m__init__\u001b[1;34m(self, path, engine, date_format, datetime_format, **engine_kwargs)\u001b[0m\n\u001b[0;32m    764\u001b[0m                                           **engine_kwargs)\n\u001b[0;32m    765\u001b[0m \u001b[1;33m\u001b[0m\u001b[0m\n\u001b[1;32m--> 766\u001b[1;33m         \u001b[0mself\u001b[0m\u001b[1;33m.\u001b[0m\u001b[0mbook\u001b[0m \u001b[1;33m=\u001b[0m \u001b[0mxlsxwriter\u001b[0m\u001b[1;33m.\u001b[0m\u001b[0mWorkbook\u001b[0m\u001b[1;33m(\u001b[0m\u001b[0mpath\u001b[0m\u001b[1;33m,\u001b[0m \u001b[1;33m**\u001b[0m\u001b[0mengine_kwargs\u001b[0m\u001b[1;33m)\u001b[0m\u001b[1;33m\u001b[0m\u001b[0m\n\u001b[0m\u001b[0;32m    767\u001b[0m \u001b[1;33m\u001b[0m\u001b[0m\n\u001b[0;32m    768\u001b[0m     \u001b[1;32mdef\u001b[0m \u001b[0msave\u001b[0m\u001b[1;33m(\u001b[0m\u001b[0mself\u001b[0m\u001b[1;33m)\u001b[0m\u001b[1;33m:\u001b[0m\u001b[1;33m\u001b[0m\u001b[0m\n",
        "\u001b[1;31mTypeError\u001b[0m: __init__() got an unexpected keyword argument 'header'"
       ]
      }
     ],
     "prompt_number": 23
    },
    {
     "cell_type": "code",
     "collapsed": false,
     "input": [
      "df.to_excel(big_table,'Sheet2')"
     ],
     "language": "python",
     "metadata": {},
     "outputs": [],
     "prompt_number": 249
    },
    {
     "cell_type": "code",
     "collapsed": false,
     "input": [
      "big_table.save()"
     ],
     "language": "python",
     "metadata": {},
     "outputs": [],
     "prompt_number": 250
    },
    {
     "cell_type": "code",
     "collapsed": false,
     "input": [
      "xl2 = pd.ExcelFile(\"/home/xgl470/big_table.xlsx\")"
     ],
     "language": "python",
     "metadata": {},
     "outputs": [],
     "prompt_number": 26
    },
    {
     "cell_type": "code",
     "collapsed": false,
     "input": [
      "xl3=xl2.row(1)"
     ],
     "language": "python",
     "metadata": {},
     "outputs": [
      {
       "ename": "AttributeError",
       "evalue": "'ExcelFile' object has no attribute 'row'",
       "output_type": "pyerr",
       "traceback": [
        "\u001b[1;31m---------------------------------------------------------------------------\u001b[0m\n\u001b[1;31mAttributeError\u001b[0m                            Traceback (most recent call last)",
        "\u001b[1;32m<ipython-input-13-2f33f8336b9e>\u001b[0m in \u001b[0;36m<module>\u001b[1;34m()\u001b[0m\n\u001b[1;32m----> 1\u001b[1;33m \u001b[0mxl3\u001b[0m\u001b[1;33m=\u001b[0m\u001b[0mxl2\u001b[0m\u001b[1;33m.\u001b[0m\u001b[0mrow\u001b[0m\u001b[1;33m(\u001b[0m\u001b[1;36m1\u001b[0m\u001b[1;33m)\u001b[0m\u001b[1;33m\u001b[0m\u001b[0m\n\u001b[0m",
        "\u001b[1;31mAttributeError\u001b[0m: 'ExcelFile' object has no attribute 'row'"
       ]
      }
     ],
     "prompt_number": 13
    },
    {
     "cell_type": "code",
     "collapsed": false,
     "input": [
      "xl2"
     ],
     "language": "python",
     "metadata": {},
     "outputs": [
      {
       "metadata": {},
       "output_type": "pyout",
       "prompt_number": 27,
       "text": [
        "<pandas.io.excel.ExcelFile at 0x7f66552f9b90>"
       ]
      }
     ],
     "prompt_number": 27
    },
    {
     "cell_type": "code",
     "collapsed": false,
     "input": [],
     "language": "python",
     "metadata": {},
     "outputs": []
    }
   ],
   "metadata": {}
  }
 ]
}
