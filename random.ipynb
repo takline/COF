{
 "cells": [
  {
   "cell_type": "code",
   "execution_count": 33,
   "metadata": {
    "collapsed": true
   },
   "outputs": [],
   "source": [
    "import pandas as pd\n",
    "import os\n",
    "_g = globals()\n",
    "import numpy as np"
   ]
  },
  {
   "cell_type": "code",
   "execution_count": 34,
   "metadata": {
    "collapsed": true
   },
   "outputs": [],
   "source": [
    "directory='/home/xgl470/energy/'"
   ]
  },
  {
   "cell_type": "code",
   "execution_count": 35,
   "metadata": {
    "collapsed": true
   },
   "outputs": [],
   "source": [
    "pd.set_option('display.max_columns', None)\n",
    "import sys  \n",
    "\n",
    "#reload(sys)  \n",
    "#sys.setdefaultencoding('utf8')"
   ]
  },
  {
   "cell_type": "code",
   "execution_count": 36,
   "metadata": {
    "collapsed": true
   },
   "outputs": [],
   "source": [
    "def standardize_API_col(df):\n",
    "    column_list=list(df.columns)\n",
    "    new=[]\n",
    "    for x in column_list:\n",
    "        new_entry=x\n",
    "        if x.upper().startswith(\"API\"):\n",
    "            new_entry='APINumber'\n",
    "        new.append(new_entry)\n",
    "    return new"
   ]
  },
  {
   "cell_type": "code",
   "execution_count": null,
   "metadata": {
    "collapsed": true
   },
   "outputs": [],
   "source": []
  },
  {
   "cell_type": "markdown",
   "metadata": {},
   "source": [
    "# pull in Original Datasets"
   ]
  },
  {
   "cell_type": "code",
   "execution_count": 37,
   "metadata": {
    "collapsed": true
   },
   "outputs": [],
   "source": [
    "#North Dakota\n",
    "nd_df=pd.read_csv(directory+\"nd_data/nd_final_dataset.txt\", sep='|')\n",
    "nd_df.columns=standardize_API_col(nd_df)\n",
    "nd_df = nd_df.drop('Unnamed: 0', 1)\n",
    "nd_df[['APINumber']]=nd_df.apply(lambda x: '{0:20.0f}'.format(x.APINumber).strip(),axis=1)"
   ]
  },
  {
   "cell_type": "code",
   "execution_count": 38,
   "metadata": {
    "collapsed": false
   },
   "outputs": [],
   "source": [
    "#Frac Focus ingredients/purpose\n",
    "ff_ingredient_df=pd.read_csv(directory+\"frac_focus_data/ingredient_purpose_final.txt\", sep='|')\n",
    "ff_ingredient_df.columns=standardize_API_col(ff_ingredient_df)\n",
    "ff_ingredient_df = ff_ingredient_df.drop('Unnamed: 0', 1)"
   ]
  },
  {
   "cell_type": "code",
   "execution_count": 39,
   "metadata": {
    "collapsed": false
   },
   "outputs": [],
   "source": [
    "#Frac Focus\n",
    "ff_reg_df=pd.read_csv(directory+\"frac_focus_data/registry_upload_final.txt\", sep='|')\n",
    "ff_reg_df.columns=standardize_API_col(ff_reg_df)\n",
    "ff_reg_df = ff_reg_df.drop('Unnamed: 0', 1)\n",
    "ff_reg_df[['APINumber']]=ff_reg_df.apply(lambda x: '{0:20.0f}'.format(x.APINumber).strip(),axis=1)"
   ]
  },
  {
   "cell_type": "markdown",
   "metadata": {},
   "source": [
    "### create an api column for the FF ingredients df"
   ]
  },
  {
   "cell_type": "code",
   "execution_count": 40,
   "metadata": {
    "collapsed": false
   },
   "outputs": [],
   "source": [
    "key_api=ff_reg_df[['pKey','APINumber']]\n",
    "key_api = key_api.drop_duplicates(subset='pKey')"
   ]
  },
  {
   "cell_type": "code",
   "execution_count": 41,
   "metadata": {
    "collapsed": false
   },
   "outputs": [],
   "source": [
    "ff_ingredient_df=pd.merge(ff_ingredient_df, key_api,how='inner', on=['pKey'])"
   ]
  },
  {
   "cell_type": "code",
   "execution_count": 42,
   "metadata": {
    "collapsed": false
   },
   "outputs": [],
   "source": [
    "temp='/home/xgl470/energy/texas_rrc_data/'\n",
    "files=os.listdir(temp)\n",
    "files=[x for x in files if '.csv' in x]\n",
    "#files=[x for x in files if 'G-2' in x or 'W-2' in x]\n",
    "files.sort()"
   ]
  },
  {
   "cell_type": "markdown",
   "metadata": {},
   "source": [
    "### create an API and Well No. column in each Texas df"
   ]
  },
  {
   "cell_type": "code",
   "execution_count": 43,
   "metadata": {
    "collapsed": true
   },
   "outputs": [],
   "source": [
    "def TX_API_Col(x):\n",
    "    try:\n",
    "        return int('42'+str(x).strip(\"0\"))\n",
    "    except:\n",
    "        return None"
   ]
  },
  {
   "cell_type": "code",
   "execution_count": 44,
   "metadata": {
    "collapsed": true
   },
   "outputs": [],
   "source": [
    "#Texas Data\n",
    "final_files=[]\n",
    "for x in files:\n",
    "    char=x.replace('.csv','')\n",
    "    char=char.replace('-','_')\n",
    "    final_files.append(char)\n",
    "    _g[char]=pd.read_csv(directory+\"texas_rrc_data/\"+x, sep='|')"
   ]
  },
  {
   "cell_type": "code",
   "execution_count": 45,
   "metadata": {
    "collapsed": false
   },
   "outputs": [
    {
     "name": "stderr",
     "output_type": "stream",
     "text": [
      "/opt/anaconda/anaconda.2.2.0/lib/python2.7/site-packages/IPython/kernel/__main__.py:2: SettingWithCopyWarning: \n",
      "A value is trying to be set on a copy of a slice from a DataFrame.\n",
      "Try using .loc[row_indexer,col_indexer] = value instead\n",
      "\n",
      "See the the caveats in the documentation: http://pandas.pydata.org/pandas-docs/stable/indexing.html#indexing-view-versus-copy\n",
      "  from IPython.kernel.zmq import kernelapp as app\n"
     ]
    }
   ],
   "source": [
    "well_tracking_api=PACKET[['WELL_NO','TRACKING_NO','API_NO']]\n",
    "well_tracking_api['API_NO']=well_tracking_api['API_NO'].apply(TX_API_Col)"
   ]
  },
  {
   "cell_type": "code",
   "execution_count": 46,
   "metadata": {
    "collapsed": false,
    "scrolled": true
   },
   "outputs": [],
   "source": [
    "for x in files:\n",
    "    char=x.replace('.csv','')\n",
    "    char=char.replace('-','_')\n",
    "    cols_to_use = list(well_tracking_api.columns - _g[char].columns)\n",
    "    cols_to_use.append('TRACKING_NO')\n",
    "    if 'TRACKING_NO' in _g[char].columns and 'API_NO' in cols_to_use:\n",
    "        _g[char]=pd.merge(_g[char], well_tracking_api[cols_to_use],how='left', on=['TRACKING_NO'])\n",
    "        _g[char]=_g[char].sort_index(axis=1)\n",
    "        _g[char].to_csv(directory+'texas_rrc_data/'+\"%s\" %(x), sep='|')"
   ]
  },
  {
   "cell_type": "markdown",
   "metadata": {},
   "source": [
    "### Texas Operator lookup"
   ]
  },
  {
   "cell_type": "code",
   "execution_count": 47,
   "metadata": {
    "collapsed": false,
    "scrolled": true
   },
   "outputs": [],
   "source": [
    "oper_lkp=pd.read_csv(directory+\"texas_rrc_data/operator_lkp.csv\", sep='|')\n",
    "oper_lkp = oper_lkp.drop_duplicates(subset='OPERATOR_NO')"
   ]
  },
  {
   "cell_type": "markdown",
   "metadata": {},
   "source": [
    "## combine Texas W2 and G1 files"
   ]
  },
  {
   "cell_type": "code",
   "execution_count": 48,
   "metadata": {
    "collapsed": true
   },
   "outputs": [],
   "source": [
    "def w2_g2_id(column):\n",
    "    final=column\n",
    "    if 'W2' in column:\n",
    "        final=column.replace('W2','W2_G1')\n",
    "    elif 'G1' in column:\n",
    "        final=column.replace('G1','W2_G1')\n",
    "    return final"
   ]
  },
  {
   "cell_type": "code",
   "execution_count": 49,
   "metadata": {
    "collapsed": false
   },
   "outputs": [],
   "source": [
    "def w2_g2_table(x):\n",
    "    final=x\n",
    "    if x=='W_2':\n",
    "        final='W2_G1'\n",
    "    else:\n",
    "        final=x.replace('W_2_','G_1_')\n",
    "    return final"
   ]
  },
  {
   "cell_type": "code",
   "execution_count": 50,
   "metadata": {
    "collapsed": false
   },
   "outputs": [],
   "source": [
    "for x in final_files:\n",
    "    if ('W_2_' in x or  'G_1_' in x) or (x=='G_1' or x=='W_2'):\n",
    "        columns=list(_g[x].columns)\n",
    "        columns=[w2_g2_id(y) for y in columns]\n",
    "        _g[x].columns=columns\n",
    "        cols = _g[x].columns.tolist()\n",
    "        cols.sort()\n",
    "        _g[x] = _g[x][cols]"
   ]
  },
  {
   "cell_type": "code",
   "execution_count": 51,
   "metadata": {
    "collapsed": true
   },
   "outputs": [],
   "source": [
    "for x in final_files:\n",
    "    if  x=='W_2':\n",
    "        new_x='W2_G1'\n",
    "        combine='G_1'\n",
    "        _g[new_x] =_g[x].append(_g[combine],ignore_index = True)\n",
    "        _g[new_x].to_csv(directory+'texas_rrc_data/'+\"%s.txt\" %(new_x), sep='|')\n",
    "    elif 'W_2_' in x:\n",
    "        new_x=x.replace('W_2_','')\n",
    "        combine=x.replace('W_2_','G_1_')\n",
    "        _g[new_x] =_g[x].append(_g[combine],ignore_index = True)\n",
    "        _g[new_x].to_csv(directory+'texas_rrc_data/'+\"%s.txt\" %(new_x), sep='|')"
   ]
  },
  {
   "cell_type": "code",
   "execution_count": 52,
   "metadata": {
    "collapsed": true
   },
   "outputs": [],
   "source": [
    "P_4_Gas_Oil_Gatherer_Data =P_4_Gas_Gatherer_Data.append(P_4_Oil_Gatherer_Data,ignore_index = True)\n",
    "P_4_Gas_Oil_Gatherer_Data.to_csv(directory+\"texas_rrc_data/P_4_Gas_Oil_Gatherer_Data.txt\" , sep='|')"
   ]
  },
  {
   "cell_type": "markdown",
   "metadata": {},
   "source": [
    "# ## time to create a master df with all API's to build Tableau off of"
   ]
  },
  {
   "cell_type": "code",
   "execution_count": 53,
   "metadata": {
    "collapsed": true
   },
   "outputs": [],
   "source": [
    "def API_Col(x):\n",
    "    try:\n",
    "        return int(str(x).strip(\"0\"))\n",
    "    except:\n",
    "        return None"
   ]
  },
  {
   "cell_type": "markdown",
   "metadata": {},
   "source": [
    "### Texas"
   ]
  },
  {
   "cell_type": "code",
   "execution_count": 54,
   "metadata": {
    "collapsed": true
   },
   "outputs": [],
   "source": [
    "master_tx=PACKET[['API_NO','LATITUDE','LONGITUDE','OIL_GAS_TYPE_CODE_VALUE','WELLBORE_PROFILE_VALUE','FIELD_NAME','WELL_NO','OPERATOR_NO']]"
   ]
  },
  {
   "cell_type": "code",
   "execution_count": 55,
   "metadata": {
    "collapsed": false,
    "scrolled": true
   },
   "outputs": [],
   "source": [
    "oper_lkp=oper_lkp[oper_lkp.columns[0:2]]\n",
    "oper_lkp.columns=['OPERATOR_NO','OPERATOR_NAME']"
   ]
  },
  {
   "cell_type": "code",
   "execution_count": 56,
   "metadata": {
    "collapsed": false,
    "scrolled": true
   },
   "outputs": [],
   "source": [
    "master_tx = pd.merge(master_tx, oper_lkp,how='left', on=['OPERATOR_NO'])\n",
    "master_tx = master_tx.drop('OPERATOR_NO', 1)"
   ]
  },
  {
   "cell_type": "code",
   "execution_count": 57,
   "metadata": {
    "collapsed": false
   },
   "outputs": [],
   "source": [
    "master_tx.columns=['API_NO','LATITUDE','LONGITUDE','OIL_GAS_TYPE','WELLBORE','FIELD_NAME','WELL_NO','OPERATOR']"
   ]
  },
  {
   "cell_type": "code",
   "execution_count": 58,
   "metadata": {
    "collapsed": false
   },
   "outputs": [],
   "source": [
    "master_tx=master_tx.sort_index(axis=1)"
   ]
  },
  {
   "cell_type": "markdown",
   "metadata": {},
   "source": [
    "### North Dakota"
   ]
  },
  {
   "cell_type": "code",
   "execution_count": 59,
   "metadata": {
    "collapsed": false
   },
   "outputs": [],
   "source": [
    "master_nd=nd_df[['APINumber','LATITUDE','LONGITUDE','WELLTYPE','WELLBORE','FIELDNAME','CURRENTWELLNAME','CURRENTOPERATOR']]"
   ]
  },
  {
   "cell_type": "code",
   "execution_count": 60,
   "metadata": {
    "collapsed": false
   },
   "outputs": [
    {
     "name": "stderr",
     "output_type": "stream",
     "text": [
      "/opt/anaconda/anaconda.2.2.0/lib/python2.7/site-packages/IPython/kernel/__main__.py:1: SettingWithCopyWarning: \n",
      "A value is trying to be set on a copy of a slice from a DataFrame.\n",
      "Try using .loc[row_indexer,col_indexer] = value instead\n",
      "\n",
      "See the the caveats in the documentation: http://pandas.pydata.org/pandas-docs/stable/indexing.html#indexing-view-versus-copy\n",
      "  if __name__ == '__main__':\n"
     ]
    }
   ],
   "source": [
    "master_nd['APINumber']=master_nd['APINumber'].apply(API_Col)"
   ]
  },
  {
   "cell_type": "code",
   "execution_count": 61,
   "metadata": {
    "collapsed": false
   },
   "outputs": [],
   "source": [
    "master_nd.columns=['API_NO','LATITUDE','LONGITUDE','OIL_GAS_TYPE','WELLBORE','FIELD_NAME','WELL_NO','OPERATOR']"
   ]
  },
  {
   "cell_type": "code",
   "execution_count": 62,
   "metadata": {
    "collapsed": true
   },
   "outputs": [],
   "source": [
    "master_nd=master_nd.sort_index(axis=1)"
   ]
  },
  {
   "cell_type": "markdown",
   "metadata": {},
   "source": [
    "### combine TX+ND"
   ]
  },
  {
   "cell_type": "code",
   "execution_count": 63,
   "metadata": {
    "collapsed": true
   },
   "outputs": [],
   "source": [
    "master_nd_tx =master_tx.append(master_nd,ignore_index = True)\n",
    "master_nd_tx = master_nd_tx.sort(['LATITUDE','LONGITUDE','LATITUDE','WELL_NO','FIELD_NAME','WELLBORE'], ascending=True)\n",
    "master_nd_tx = master_nd_tx.drop_duplicates(subset='API_NO')"
   ]
  },
  {
   "cell_type": "markdown",
   "metadata": {},
   "source": [
    "### FracFocus"
   ]
  },
  {
   "cell_type": "code",
   "execution_count": 64,
   "metadata": {
    "collapsed": true
   },
   "outputs": [],
   "source": [
    "master_ff=ff_reg_df[['APINumber','Latitude','Longitude','WellName','WellName','OperatorName']]"
   ]
  },
  {
   "cell_type": "code",
   "execution_count": 65,
   "metadata": {
    "collapsed": false,
    "scrolled": true
   },
   "outputs": [
    {
     "name": "stderr",
     "output_type": "stream",
     "text": [
      "/opt/anaconda/anaconda.2.2.0/lib/python2.7/site-packages/IPython/kernel/__main__.py:1: SettingWithCopyWarning: \n",
      "A value is trying to be set on a copy of a slice from a DataFrame.\n",
      "Try using .loc[row_indexer,col_indexer] = value instead\n",
      "\n",
      "See the the caveats in the documentation: http://pandas.pydata.org/pandas-docs/stable/indexing.html#indexing-view-versus-copy\n",
      "  if __name__ == '__main__':\n"
     ]
    }
   ],
   "source": [
    "master_ff['APINumber']=master_ff['APINumber'].apply(API_Col)"
   ]
  },
  {
   "cell_type": "code",
   "execution_count": 66,
   "metadata": {
    "collapsed": false
   },
   "outputs": [],
   "source": [
    "master_ff.columns=['API_NO','LATITUDE','LONGITUDE','FIELD_NAME','WELL_NO','OPERATOR']"
   ]
  },
  {
   "cell_type": "code",
   "execution_count": 67,
   "metadata": {
    "collapsed": false,
    "scrolled": false
   },
   "outputs": [
    {
     "name": "stderr",
     "output_type": "stream",
     "text": [
      "/opt/anaconda/anaconda.2.2.0/lib/python2.7/site-packages/IPython/kernel/__main__.py:1: SettingWithCopyWarning: \n",
      "A value is trying to be set on a copy of a slice from a DataFrame.\n",
      "Try using .loc[row_indexer,col_indexer] = value instead\n",
      "\n",
      "See the the caveats in the documentation: http://pandas.pydata.org/pandas-docs/stable/indexing.html#indexing-view-versus-copy\n",
      "  if __name__ == '__main__':\n",
      "/opt/anaconda/anaconda.2.2.0/lib/python2.7/site-packages/IPython/kernel/__main__.py:2: SettingWithCopyWarning: \n",
      "A value is trying to be set on a copy of a slice from a DataFrame.\n",
      "Try using .loc[row_indexer,col_indexer] = value instead\n",
      "\n",
      "See the the caveats in the documentation: http://pandas.pydata.org/pandas-docs/stable/indexing.html#indexing-view-versus-copy\n",
      "  from IPython.kernel.zmq import kernelapp as app\n"
     ]
    }
   ],
   "source": [
    "master_ff[\"OIL_GAS_TYPE\"] = np.nan\n",
    "master_ff[\"WELLBORE\"] = np.nan"
   ]
  },
  {
   "cell_type": "code",
   "execution_count": 68,
   "metadata": {
    "collapsed": true
   },
   "outputs": [],
   "source": [
    "master_ff=master_ff.sort_index(axis=1)"
   ]
  },
  {
   "cell_type": "markdown",
   "metadata": {},
   "source": [
    "# Fixing missing values in ND/TX"
   ]
  },
  {
   "cell_type": "markdown",
   "metadata": {},
   "source": [
    "### Latitude/Longitude"
   ]
  },
  {
   "cell_type": "code",
   "execution_count": 69,
   "metadata": {
    "collapsed": false
   },
   "outputs": [],
   "source": [
    "#missing latitude in ND/TX\n",
    "LL_nd_tx=master_nd_tx[master_nd_tx['LATITUDE']<>master_nd_tx['LATITUDE']]\n",
    "master_nd_tx=master_nd_tx[master_nd_tx['LATITUDE']==master_nd_tx['LATITUDE']]"
   ]
  },
  {
   "cell_type": "code",
   "execution_count": 70,
   "metadata": {
    "collapsed": false
   },
   "outputs": [],
   "source": [
    "#valid latitude in FF\n",
    "LL_ff=master_ff[master_ff['LATITUDE']==master_ff['LATITUDE']]\n",
    "LL_ff = LL_ff.drop_duplicates(subset='API_NO')\n",
    "LL_ff = LL_ff[['API_NO','LATITUDE','LONGITUDE']]"
   ]
  },
  {
   "cell_type": "code",
   "execution_count": 71,
   "metadata": {
    "collapsed": true
   },
   "outputs": [],
   "source": [
    "#replace ND/TX Lat/Long values\n",
    "keep_these=['API_NO','FIELD_NAME','OIL_GAS_TYPE','OPERATOR', 'WELLBORE','WELL_NO']\n",
    "LL_nd_tx = pd.merge(LL_nd_tx[keep_these], LL_ff,how='left', on=['API_NO'])\n",
    "LL_nd_tx=LL_nd_tx.sort_index(axis=1)\n",
    "master_nd_tx =master_nd_tx.append(LL_nd_tx,ignore_index = True)\n",
    "master_nd_tx = master_nd_tx.drop_duplicates(subset='API_NO')"
   ]
  },
  {
   "cell_type": "markdown",
   "metadata": {},
   "source": [
    "### combine FF with TX/ND now"
   ]
  },
  {
   "cell_type": "code",
   "execution_count": 72,
   "metadata": {
    "collapsed": true
   },
   "outputs": [],
   "source": [
    "master_nd_tx =master_nd_tx.append(master_ff,ignore_index = True)\n",
    "master_nd_tx = master_nd_tx.drop_duplicates(subset='API_NO')"
   ]
  },
  {
   "cell_type": "code",
   "execution_count": 73,
   "metadata": {
    "collapsed": true
   },
   "outputs": [],
   "source": [
    "master_nd_tx.to_csv(directory+\"master_lkp.txt\", sep='|')"
   ]
  },
  {
   "cell_type": "code",
   "execution_count": 75,
   "metadata": {
    "collapsed": false
   },
   "outputs": [
    {
     "data": {
      "text/html": [
       "<div style=\"max-height:1000px;max-width:1500px;overflow:auto;\">\n",
       "<table border=\"1\" class=\"dataframe\">\n",
       "  <thead>\n",
       "    <tr style=\"text-align: right;\">\n",
       "      <th></th>\n",
       "      <th>API_NO</th>\n",
       "      <th>APPROVED_DT</th>\n",
       "      <th>CMPL_OR_RECMPL_DATE</th>\n",
       "      <th>CMPL_PACKET_TYPE</th>\n",
       "      <th>CMPL_PACKET_TYPE_VALUE</th>\n",
       "      <th>COMPLETION_TYPE</th>\n",
       "      <th>COMPLETION_TYPE_VALUE</th>\n",
       "      <th>COUNTY</th>\n",
       "      <th>DATE</th>\n",
       "      <th>DIRECTION_NEAREST_TOWN</th>\n",
       "      <th>DISTRICT</th>\n",
       "      <th>DIST_DIRECTION_DIRECTION</th>\n",
       "      <th>DIST_DIRECTION_MILES</th>\n",
       "      <th>DP_DT</th>\n",
       "      <th>DP_NO</th>\n",
       "      <th>ELECTRIC_LOG_OTHER_DESC</th>\n",
       "      <th>ELECTRIC_LOG_RUN</th>\n",
       "      <th>ELECTRIC_LOG_RUN_VALUE</th>\n",
       "      <th>FIELD_NAME</th>\n",
       "      <th>FIELD_NO</th>\n",
       "      <th>FILING_METHOD_CODE</th>\n",
       "      <th>FILING_METHOD_CODE_VALUE</th>\n",
       "      <th>FRMR_GAS_ID_OR_OIL_LEASE</th>\n",
       "      <th>FRMR_GAS_ID_OR_OIL_LSE_NO</th>\n",
       "      <th>FRMR_LEASE_NAME</th>\n",
       "      <th>FRMR_OPERATOR_NAME</th>\n",
       "      <th>FRMR_WELL_NO</th>\n",
       "      <th>HORIZ_WELLBORE_TYPE_CODE</th>\n",
       "      <th>HORIZ_WELLBORE_TYPE_CODE_VALUE</th>\n",
       "      <th>LATITUDE</th>\n",
       "      <th>LATLONG_CODE</th>\n",
       "      <th>LATLONG_CODE_VALUE</th>\n",
       "      <th>LATLONG_OTHER</th>\n",
       "      <th>LEASE_NAME</th>\n",
       "      <th>LEASE_NO</th>\n",
       "      <th>LONGITUDE</th>\n",
       "      <th>NEAREST_WELL_DIST</th>\n",
       "      <th>NO_OF_PRODUCING_WELLS</th>\n",
       "      <th>OIL_GAS_TYPE_CODE</th>\n",
       "      <th>OIL_GAS_TYPE_CODE_VALUE</th>\n",
       "      <th>OPERATOR_NO</th>\n",
       "      <th>OTHER_PERMIT_DATE</th>\n",
       "      <th>OTHER_PERMIT_DSCRPTN</th>\n",
       "      <th>OTHER_PERMIT_NO</th>\n",
       "      <th>PACKET_ID</th>\n",
       "      <th>PURPOSE_OF_FILING</th>\n",
       "      <th>PURPOSE_OF_FILING_VALUE</th>\n",
       "      <th>RULE37_CASE_DT</th>\n",
       "      <th>RULE37_CASE_NO</th>\n",
       "      <th>SLTWTR_DSPSL_PRMT_DT</th>\n",
       "      <th>SLTWTR_DSPSL_PRMT_NO</th>\n",
       "      <th>SPUD_DT</th>\n",
       "      <th>SUBMISSION_TYPE</th>\n",
       "      <th>SUBMIT_DT</th>\n",
       "      <th>SURVEY</th>\n",
       "      <th>SURVEY_ABSTRACT</th>\n",
       "      <th>SURVEY_BLOCK</th>\n",
       "      <th>SURVEY_SECTION</th>\n",
       "      <th>TOTAL_ACRES</th>\n",
       "      <th>TRACKING_NO</th>\n",
       "      <th>TYPE</th>\n",
       "      <th>UNIT_NO</th>\n",
       "      <th>WELLBORE_PROFILE</th>\n",
       "      <th>WELLBORE_PROFILE_VALUE</th>\n",
       "      <th>WELL_NO</th>\n",
       "      <th>WELL_TYPE</th>\n",
       "      <th>WELL_TYPE_VALUE</th>\n",
       "      <th>WORKOVER_ROW_COUNT</th>\n",
       "      <th>WTR_INJCTN_PRMT_DT</th>\n",
       "      <th>WTR_INJCTN_PRMT_NO</th>\n",
       "    </tr>\n",
       "  </thead>\n",
       "  <tbody>\n",
       "    <tr>\n",
       "      <th>488</th>\n",
       "      <td> 12333707</td>\n",
       "      <td> NaN</td>\n",
       "      <td> 08/28/2015</td>\n",
       "      <td> 2</td>\n",
       "      <td> G-1</td>\n",
       "      <td> 1</td>\n",
       "      <td> NEW WELL</td>\n",
       "      <td> 123</td>\n",
       "      <td> 11-03-2015</td>\n",
       "      <td> CUERO</td>\n",
       "      <td> 02</td>\n",
       "      <td> NW</td>\n",
       "      <td> 13.5</td>\n",
       "      <td> 08/16/2014</td>\n",
       "      <td> 791893</td>\n",
       "      <td> NaN</td>\n",
       "      <td> 11</td>\n",
       "      <td> GAMMA RAY (MWD)</td>\n",
       "      <td> EAGLEVILLE (EAGLE FORD-2)</td>\n",
       "      <td> 27135750</td>\n",
       "      <td> 1</td>\n",
       "      <td> ONLINE</td>\n",
       "      <td>NaN</td>\n",
       "      <td>NaN</td>\n",
       "      <td>NaN</td>\n",
       "      <td> NaN</td>\n",
       "      <td>NaN</td>\n",
       "      <td>NaN</td>\n",
       "      <td> NaN</td>\n",
       "      <td>NaN</td>\n",
       "      <td>NaN</td>\n",
       "      <td> NaN</td>\n",
       "      <td> NaN</td>\n",
       "      <td> KRAUSE UNIT A</td>\n",
       "      <td> 10200</td>\n",
       "      <td>NaN</td>\n",
       "      <td> 316</td>\n",
       "      <td> 3</td>\n",
       "      <td> 2</td>\n",
       "      <td> OIL WELL</td>\n",
       "      <td> 109333</td>\n",
       "      <td> NaN</td>\n",
       "      <td> NaN</td>\n",
       "      <td>NaN</td>\n",
       "      <td> 204998</td>\n",
       "      <td> 1</td>\n",
       "      <td> INITIAL POTENTIAL</td>\n",
       "      <td> NaN</td>\n",
       "      <td>NaN</td>\n",
       "      <td> NaN</td>\n",
       "      <td>NaN</td>\n",
       "      <td> 03/30/2015</td>\n",
       "      <td> Submitted</td>\n",
       "      <td> 11/03/2015</td>\n",
       "      <td> PATE, P</td>\n",
       "      <td> 386</td>\n",
       "      <td> NaN</td>\n",
       "      <td> NaN</td>\n",
       "      <td> 347.24</td>\n",
       "      <td> 145586</td>\n",
       "      <td> PACKET</td>\n",
       "      <td> NaN</td>\n",
       "      <td> 1</td>\n",
       "      <td> HORIZONTAL</td>\n",
       "      <td> 3</td>\n",
       "      <td> 1</td>\n",
       "      <td> PRODUCING</td>\n",
       "      <td> 0</td>\n",
       "      <td> NaN</td>\n",
       "      <td>NaN</td>\n",
       "    </tr>\n",
       "  </tbody>\n",
       "</table>\n",
       "</div>"
      ],
      "text/plain": [
       "       API_NO APPROVED_DT CMPL_OR_RECMPL_DATE  CMPL_PACKET_TYPE  \\\n",
       "488  12333707         NaN          08/28/2015                 2   \n",
       "\n",
       "    CMPL_PACKET_TYPE_VALUE  COMPLETION_TYPE COMPLETION_TYPE_VALUE  COUNTY  \\\n",
       "488                    G-1                1              NEW WELL     123   \n",
       "\n",
       "           DATE DIRECTION_NEAREST_TOWN DISTRICT DIST_DIRECTION_DIRECTION  \\\n",
       "488  11-03-2015                  CUERO       02                       NW   \n",
       "\n",
       "     DIST_DIRECTION_MILES       DP_DT   DP_NO ELECTRIC_LOG_OTHER_DESC  \\\n",
       "488                  13.5  08/16/2014  791893                     NaN   \n",
       "\n",
       "     ELECTRIC_LOG_RUN ELECTRIC_LOG_RUN_VALUE                 FIELD_NAME  \\\n",
       "488                11        GAMMA RAY (MWD)  EAGLEVILLE (EAGLE FORD-2)   \n",
       "\n",
       "     FIELD_NO  FILING_METHOD_CODE FILING_METHOD_CODE_VALUE  \\\n",
       "488  27135750                   1                   ONLINE   \n",
       "\n",
       "     FRMR_GAS_ID_OR_OIL_LEASE  FRMR_GAS_ID_OR_OIL_LSE_NO  FRMR_LEASE_NAME  \\\n",
       "488                       NaN                        NaN              NaN   \n",
       "\n",
       "    FRMR_OPERATOR_NAME  FRMR_WELL_NO  HORIZ_WELLBORE_TYPE_CODE  \\\n",
       "488                NaN           NaN                       NaN   \n",
       "\n",
       "    HORIZ_WELLBORE_TYPE_CODE_VALUE  LATITUDE  LATLONG_CODE LATLONG_CODE_VALUE  \\\n",
       "488                            NaN       NaN           NaN                NaN   \n",
       "\n",
       "    LATLONG_OTHER     LEASE_NAME  LEASE_NO  LONGITUDE  NEAREST_WELL_DIST  \\\n",
       "488           NaN  KRAUSE UNIT A     10200        NaN                316   \n",
       "\n",
       "     NO_OF_PRODUCING_WELLS  OIL_GAS_TYPE_CODE OIL_GAS_TYPE_CODE_VALUE  \\\n",
       "488                      3                  2                OIL WELL   \n",
       "\n",
       "     OPERATOR_NO OTHER_PERMIT_DATE OTHER_PERMIT_DSCRPTN  OTHER_PERMIT_NO  \\\n",
       "488       109333               NaN                  NaN              NaN   \n",
       "\n",
       "     PACKET_ID  PURPOSE_OF_FILING PURPOSE_OF_FILING_VALUE RULE37_CASE_DT  \\\n",
       "488     204998                  1       INITIAL POTENTIAL            NaN   \n",
       "\n",
       "     RULE37_CASE_NO SLTWTR_DSPSL_PRMT_DT  SLTWTR_DSPSL_PRMT_NO     SPUD_DT  \\\n",
       "488             NaN                  NaN                   NaN  03/30/2015   \n",
       "\n",
       "    SUBMISSION_TYPE   SUBMIT_DT   SURVEY SURVEY_ABSTRACT SURVEY_BLOCK  \\\n",
       "488       Submitted  11/03/2015  PATE, P             386          NaN   \n",
       "\n",
       "    SURVEY_SECTION  TOTAL_ACRES  TRACKING_NO    TYPE UNIT_NO  \\\n",
       "488            NaN       347.24       145586  PACKET     NaN   \n",
       "\n",
       "     WELLBORE_PROFILE WELLBORE_PROFILE_VALUE WELL_NO  WELL_TYPE  \\\n",
       "488                 1             HORIZONTAL       3          1   \n",
       "\n",
       "    WELL_TYPE_VALUE WORKOVER_ROW_COUNT WTR_INJCTN_PRMT_DT  WTR_INJCTN_PRMT_NO  \n",
       "488       PRODUCING                  0                NaN                 NaN  "
      ]
     },
     "execution_count": 75,
     "metadata": {},
     "output_type": "execute_result"
    }
   ],
   "source": [
    "PACKET[PACKET['TRACKING_NO']==145586]"
   ]
  },
  {
   "cell_type": "code",
   "execution_count": null,
   "metadata": {
    "collapsed": true
   },
   "outputs": [],
   "source": []
  }
 ],
 "metadata": {
  "kernelspec": {
   "display_name": "Python 2",
   "language": "python",
   "name": "python2"
  },
  "language_info": {
   "codemirror_mode": {
    "name": "ipython",
    "version": 2
   },
   "file_extension": ".py",
   "mimetype": "text/x-python",
   "name": "python",
   "nbconvert_exporter": "python",
   "pygments_lexer": "ipython2",
   "version": "2.7.9"
  }
 },
 "nbformat": 4,
 "nbformat_minor": 0
}
